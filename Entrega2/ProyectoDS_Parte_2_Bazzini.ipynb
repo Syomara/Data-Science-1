{
  "nbformat": 4,
  "nbformat_minor": 0,
  "metadata": {
    "colab": {
      "provenance": [],
      "authorship_tag": "ABX9TyMsKdoRdDPWqRILY/RWAsDC",
      "include_colab_link": true
    },
    "kernelspec": {
      "name": "python3",
      "display_name": "Python 3"
    },
    "language_info": {
      "name": "python"
    }
  },
  "cells": [
    {
      "cell_type": "markdown",
      "metadata": {
        "id": "view-in-github",
        "colab_type": "text"
      },
      "source": [
        "<a href=\"https://colab.research.google.com/github/Syomara/Data-Science-1/blob/main/Entrega2/ProyectoDS_Parte_2_Bazzini.ipynb\" target=\"_parent\"><img src=\"https://colab.research.google.com/assets/colab-badge.svg\" alt=\"Open In Colab\"/></a>"
      ]
    },
    {
      "cell_type": "markdown",
      "source": [
        "## Proyecto Final - Visualizaciones en Python\n",
        "# Primera Entrega\n",
        "Archivo: ProyectoDS_ParteI_TuApellido.ipynb\n",
        "\n",
        "# 📌 Resumen\n",
        "\n",
        "Este proyecto utiliza un dataset denominado Delitos denunciados en Uruguay que proviene del Catálogo de Datos Abiertos de Uruguay. El mismo detalla información de todos los delitos denunciados desde Enero 2013 a Abril del 2025, dentro de los datos incluidos en el dataset se encuentran: fecha y lugar del delito, jurisdicción donde ocurrió, motivo aparente y arma utilizada, además se aclara si el delito llegó a aclararse o no y, por último, datos personales de la victima.\n",
        "\n",
        "Durante este proyecto se comenzará realizando un análisis de los datos para evaluar si faltan datos en el dataset y se decidirá que realizar de acuerdo al resultado de esta evaluación. Por otro lado se crearán visualizaciones simples utilizando herramientas de Phyton como Matplotlib, Pandas y Seaborn, de esta manera se determinarán las conclusiones y se responderan preguntas claves para el cumplimiento de los objetivos del proyecto.\n",
        "\n",
        "\n",
        "El objetivo del proyecto es evaluar en que lugar del Uruguay ocurren la mayor cantidad de delitos, además de evaluar si existe algún patrón en las victimas de estos delitos.\n",
        "\n",
        "# ❓Preguntas / Hipótesis de interés\n",
        "\n",
        "1.   ¿En qúe localidad de Uruguay se encuentran la mayor cantidad de delitos denuciados?\n",
        "2.   ¿Cómo se distribuyen estos delitos a lo largo de los años?\n",
        "3.   ¿Qué género es más común en las victimas?\n",
        "4.   ¿Cuán común es la resolución del delito?\n",
        "\n",
        "# Objetivo del Proyecto\n",
        "El objetivo de este proyecto es desarrollar un modelo predictivo de la problemática de los delitos en Uruguay generando una base de estudio para estratificar más fácilmente donde está el problema de delitos y así generar un pareto que permita resolver el problema más fácilmente atacando la mayor cantidad de causas.\n",
        "\n",
        "# 📊 Visualizaciones y Análisis\n"
      ],
      "metadata": {
        "id": "fIdyDwgC_WUG"
      }
    },
    {
      "cell_type": "code",
      "source": [
        "import pandas as pd\n",
        "import seaborn as sns\n",
        "import matplotlib.pyplot as plt\n",
        "\n",
        "# Cargar datos\n",
        "df = pd.read_csv('https://raw.githubusercontent.com/Syomara/Data-Science-1/main/Entrega1/homicidios_dolosos_consumados(1).csv', encoding='latin-1')\n",
        "df.head()"
      ],
      "metadata": {
        "colab": {
          "base_uri": "https://localhost:8080/",
          "height": 568
        },
        "id": "PZsFvev-PEb_",
        "outputId": "f859606b-f52a-43ff-c88b-d365fb125c3c"
      },
      "execution_count": 53,
      "outputs": [
        {
          "output_type": "execute_result",
          "data": {
            "text/plain": [
              "   ID_VICTIMA       FECHA  AÃO    MES          TRIMESTRE DIA_SEMANA HORA  \\\n",
              "0  AAA1134816  30.04.2021  2021  ABRIL  SEGUNDO TRIMESTRE    VIERNES    8   \n",
              "1  AAA1146478  30.04.2021  2021  ABRIL  SEGUNDO TRIMESTRE    VIERNES   13   \n",
              "2   AAA128234  28.04.2021  2021  ABRIL  SEGUNDO TRIMESTRE  MIERCOLES   22   \n",
              "3   AAA199424  28.04.2021  2021  ABRIL  SEGUNDO TRIMESTRE  MIERCOLES   20   \n",
              "4  AAB1152814  16.04.2021  2021  ABRIL  SEGUNDO TRIMESTRE    VIERNES   18   \n",
              "\n",
              "  DEPARTAMENTO  JURISDICCION                                  LUGAR  ...  \\\n",
              "0    CANELONES  SECCIONAL 28  VIA PUBLICA U OTROS ESPACIOS ABIERTOS  ...   \n",
              "1   MONTEVIDEO  SECCIONAL 24  VIA PUBLICA U OTROS ESPACIOS ABIERTOS  ...   \n",
              "2   MONTEVIDEO  SECCIONAL 14  VIA PUBLICA U OTROS ESPACIOS ABIERTOS  ...   \n",
              "3   TACUAREMBO   SECCIONAL 2                             RESIDENCIA  ...   \n",
              "4   MONTEVIDEO  SECCIONAL 15  VIA PUBLICA U OTROS ESPACIOS ABIERTOS  ...   \n",
              "\n",
              "            ARMAREC             PROCESADOS          MENORESCINICIOPROC  \\\n",
              "0     ARMA DE FUEGO         SIN PROCESADOS  SIN MENORES C/INICIO PROC.   \n",
              "1     ARMA DE FUEGO         SIN PROCESADOS  SIN MENORES C/INICIO PROC.   \n",
              "2     ARMA DE FUEGO         SIN PROCESADOS  SIN MENORES C/INICIO PROC.   \n",
              "3  CORTO / PUNZANTE  AUTOR MAYOR FALLECIDO  SIN MENORES C/INICIO PROC.   \n",
              "4     ARMA DE FUEGO         SIN PROCESADOS  SIN MENORES C/INICIO PROC.   \n",
              "\n",
              "      ACLARADO    SEXO EDADCALC NACIONALIDAD  \\\n",
              "0  SIN ACLARAR  HOMBRE       39     URUGUAYA   \n",
              "1  SIN ACLARAR  HOMBRE       33     URUGUAYA   \n",
              "2  SIN ACLARAR  HOMBRE       31     URUGUAYA   \n",
              "3     ACLARADO   MUJER       60     URUGUAYA   \n",
              "4  SIN ACLARAR  HOMBRE       28     URUGUAYA   \n",
              "\n",
              "                              ANTECEDENTES ANTECEDENTESPORESTUPEFACIENTES  \\\n",
              "0    ANTECEDENTES POR DELITOS NO VIOLENTOS               SIN ANTECEDENTES   \n",
              "1  ANTECEDENTES POR AMBOS TIPOS DE DELITOS               SIN ANTECEDENTES   \n",
              "2       ANTECEDENTES POR DELITOS VIOLENTOS               SIN ANTECEDENTES   \n",
              "3                         SIN ANTECEDENTES               SIN ANTECEDENTES   \n",
              "4       ANTECEDENTES POR DELITOS VIOLENTOS               SIN ANTECEDENTES   \n",
              "\n",
              "        REL_VICT_AGRES  \n",
              "0  VINCULO DESCONOCIDO  \n",
              "1  VINCULO DESCONOCIDO  \n",
              "2  VINCULO DESCONOCIDO  \n",
              "3     PAREJA/EX PAREJA  \n",
              "4  VINCULO DESCONOCIDO  \n",
              "\n",
              "[5 rows x 22 columns]"
            ],
            "text/html": [
              "\n",
              "  <div id=\"df-5a815606-26f4-4bdc-8d5b-de8f80041736\" class=\"colab-df-container\">\n",
              "    <div>\n",
              "<style scoped>\n",
              "    .dataframe tbody tr th:only-of-type {\n",
              "        vertical-align: middle;\n",
              "    }\n",
              "\n",
              "    .dataframe tbody tr th {\n",
              "        vertical-align: top;\n",
              "    }\n",
              "\n",
              "    .dataframe thead th {\n",
              "        text-align: right;\n",
              "    }\n",
              "</style>\n",
              "<table border=\"1\" class=\"dataframe\">\n",
              "  <thead>\n",
              "    <tr style=\"text-align: right;\">\n",
              "      <th></th>\n",
              "      <th>ID_VICTIMA</th>\n",
              "      <th>FECHA</th>\n",
              "      <th>AÃO</th>\n",
              "      <th>MES</th>\n",
              "      <th>TRIMESTRE</th>\n",
              "      <th>DIA_SEMANA</th>\n",
              "      <th>HORA</th>\n",
              "      <th>DEPARTAMENTO</th>\n",
              "      <th>JURISDICCION</th>\n",
              "      <th>LUGAR</th>\n",
              "      <th>...</th>\n",
              "      <th>ARMAREC</th>\n",
              "      <th>PROCESADOS</th>\n",
              "      <th>MENORESCINICIOPROC</th>\n",
              "      <th>ACLARADO</th>\n",
              "      <th>SEXO</th>\n",
              "      <th>EDADCALC</th>\n",
              "      <th>NACIONALIDAD</th>\n",
              "      <th>ANTECEDENTES</th>\n",
              "      <th>ANTECEDENTESPORESTUPEFACIENTES</th>\n",
              "      <th>REL_VICT_AGRES</th>\n",
              "    </tr>\n",
              "  </thead>\n",
              "  <tbody>\n",
              "    <tr>\n",
              "      <th>0</th>\n",
              "      <td>AAA1134816</td>\n",
              "      <td>30.04.2021</td>\n",
              "      <td>2021</td>\n",
              "      <td>ABRIL</td>\n",
              "      <td>SEGUNDO TRIMESTRE</td>\n",
              "      <td>VIERNES</td>\n",
              "      <td>8</td>\n",
              "      <td>CANELONES</td>\n",
              "      <td>SECCIONAL 28</td>\n",
              "      <td>VIA PUBLICA U OTROS ESPACIOS ABIERTOS</td>\n",
              "      <td>...</td>\n",
              "      <td>ARMA DE FUEGO</td>\n",
              "      <td>SIN PROCESADOS</td>\n",
              "      <td>SIN MENORES C/INICIO PROC.</td>\n",
              "      <td>SIN ACLARAR</td>\n",
              "      <td>HOMBRE</td>\n",
              "      <td>39</td>\n",
              "      <td>URUGUAYA</td>\n",
              "      <td>ANTECEDENTES POR DELITOS NO VIOLENTOS</td>\n",
              "      <td>SIN ANTECEDENTES</td>\n",
              "      <td>VINCULO DESCONOCIDO</td>\n",
              "    </tr>\n",
              "    <tr>\n",
              "      <th>1</th>\n",
              "      <td>AAA1146478</td>\n",
              "      <td>30.04.2021</td>\n",
              "      <td>2021</td>\n",
              "      <td>ABRIL</td>\n",
              "      <td>SEGUNDO TRIMESTRE</td>\n",
              "      <td>VIERNES</td>\n",
              "      <td>13</td>\n",
              "      <td>MONTEVIDEO</td>\n",
              "      <td>SECCIONAL 24</td>\n",
              "      <td>VIA PUBLICA U OTROS ESPACIOS ABIERTOS</td>\n",
              "      <td>...</td>\n",
              "      <td>ARMA DE FUEGO</td>\n",
              "      <td>SIN PROCESADOS</td>\n",
              "      <td>SIN MENORES C/INICIO PROC.</td>\n",
              "      <td>SIN ACLARAR</td>\n",
              "      <td>HOMBRE</td>\n",
              "      <td>33</td>\n",
              "      <td>URUGUAYA</td>\n",
              "      <td>ANTECEDENTES POR AMBOS TIPOS DE DELITOS</td>\n",
              "      <td>SIN ANTECEDENTES</td>\n",
              "      <td>VINCULO DESCONOCIDO</td>\n",
              "    </tr>\n",
              "    <tr>\n",
              "      <th>2</th>\n",
              "      <td>AAA128234</td>\n",
              "      <td>28.04.2021</td>\n",
              "      <td>2021</td>\n",
              "      <td>ABRIL</td>\n",
              "      <td>SEGUNDO TRIMESTRE</td>\n",
              "      <td>MIERCOLES</td>\n",
              "      <td>22</td>\n",
              "      <td>MONTEVIDEO</td>\n",
              "      <td>SECCIONAL 14</td>\n",
              "      <td>VIA PUBLICA U OTROS ESPACIOS ABIERTOS</td>\n",
              "      <td>...</td>\n",
              "      <td>ARMA DE FUEGO</td>\n",
              "      <td>SIN PROCESADOS</td>\n",
              "      <td>SIN MENORES C/INICIO PROC.</td>\n",
              "      <td>SIN ACLARAR</td>\n",
              "      <td>HOMBRE</td>\n",
              "      <td>31</td>\n",
              "      <td>URUGUAYA</td>\n",
              "      <td>ANTECEDENTES POR DELITOS VIOLENTOS</td>\n",
              "      <td>SIN ANTECEDENTES</td>\n",
              "      <td>VINCULO DESCONOCIDO</td>\n",
              "    </tr>\n",
              "    <tr>\n",
              "      <th>3</th>\n",
              "      <td>AAA199424</td>\n",
              "      <td>28.04.2021</td>\n",
              "      <td>2021</td>\n",
              "      <td>ABRIL</td>\n",
              "      <td>SEGUNDO TRIMESTRE</td>\n",
              "      <td>MIERCOLES</td>\n",
              "      <td>20</td>\n",
              "      <td>TACUAREMBO</td>\n",
              "      <td>SECCIONAL 2</td>\n",
              "      <td>RESIDENCIA</td>\n",
              "      <td>...</td>\n",
              "      <td>CORTO / PUNZANTE</td>\n",
              "      <td>AUTOR MAYOR FALLECIDO</td>\n",
              "      <td>SIN MENORES C/INICIO PROC.</td>\n",
              "      <td>ACLARADO</td>\n",
              "      <td>MUJER</td>\n",
              "      <td>60</td>\n",
              "      <td>URUGUAYA</td>\n",
              "      <td>SIN ANTECEDENTES</td>\n",
              "      <td>SIN ANTECEDENTES</td>\n",
              "      <td>PAREJA/EX PAREJA</td>\n",
              "    </tr>\n",
              "    <tr>\n",
              "      <th>4</th>\n",
              "      <td>AAB1152814</td>\n",
              "      <td>16.04.2021</td>\n",
              "      <td>2021</td>\n",
              "      <td>ABRIL</td>\n",
              "      <td>SEGUNDO TRIMESTRE</td>\n",
              "      <td>VIERNES</td>\n",
              "      <td>18</td>\n",
              "      <td>MONTEVIDEO</td>\n",
              "      <td>SECCIONAL 15</td>\n",
              "      <td>VIA PUBLICA U OTROS ESPACIOS ABIERTOS</td>\n",
              "      <td>...</td>\n",
              "      <td>ARMA DE FUEGO</td>\n",
              "      <td>SIN PROCESADOS</td>\n",
              "      <td>SIN MENORES C/INICIO PROC.</td>\n",
              "      <td>SIN ACLARAR</td>\n",
              "      <td>HOMBRE</td>\n",
              "      <td>28</td>\n",
              "      <td>URUGUAYA</td>\n",
              "      <td>ANTECEDENTES POR DELITOS VIOLENTOS</td>\n",
              "      <td>SIN ANTECEDENTES</td>\n",
              "      <td>VINCULO DESCONOCIDO</td>\n",
              "    </tr>\n",
              "  </tbody>\n",
              "</table>\n",
              "<p>5 rows × 22 columns</p>\n",
              "</div>\n",
              "    <div class=\"colab-df-buttons\">\n",
              "\n",
              "  <div class=\"colab-df-container\">\n",
              "    <button class=\"colab-df-convert\" onclick=\"convertToInteractive('df-5a815606-26f4-4bdc-8d5b-de8f80041736')\"\n",
              "            title=\"Convert this dataframe to an interactive table.\"\n",
              "            style=\"display:none;\">\n",
              "\n",
              "  <svg xmlns=\"http://www.w3.org/2000/svg\" height=\"24px\" viewBox=\"0 -960 960 960\">\n",
              "    <path d=\"M120-120v-720h720v720H120Zm60-500h600v-160H180v160Zm220 220h160v-160H400v160Zm0 220h160v-160H400v160ZM180-400h160v-160H180v160Zm440 0h160v-160H620v160ZM180-180h160v-160H180v160Zm440 0h160v-160H620v160Z\"/>\n",
              "  </svg>\n",
              "    </button>\n",
              "\n",
              "  <style>\n",
              "    .colab-df-container {\n",
              "      display:flex;\n",
              "      gap: 12px;\n",
              "    }\n",
              "\n",
              "    .colab-df-convert {\n",
              "      background-color: #E8F0FE;\n",
              "      border: none;\n",
              "      border-radius: 50%;\n",
              "      cursor: pointer;\n",
              "      display: none;\n",
              "      fill: #1967D2;\n",
              "      height: 32px;\n",
              "      padding: 0 0 0 0;\n",
              "      width: 32px;\n",
              "    }\n",
              "\n",
              "    .colab-df-convert:hover {\n",
              "      background-color: #E2EBFA;\n",
              "      box-shadow: 0px 1px 2px rgba(60, 64, 67, 0.3), 0px 1px 3px 1px rgba(60, 64, 67, 0.15);\n",
              "      fill: #174EA6;\n",
              "    }\n",
              "\n",
              "    .colab-df-buttons div {\n",
              "      margin-bottom: 4px;\n",
              "    }\n",
              "\n",
              "    [theme=dark] .colab-df-convert {\n",
              "      background-color: #3B4455;\n",
              "      fill: #D2E3FC;\n",
              "    }\n",
              "\n",
              "    [theme=dark] .colab-df-convert:hover {\n",
              "      background-color: #434B5C;\n",
              "      box-shadow: 0px 1px 3px 1px rgba(0, 0, 0, 0.15);\n",
              "      filter: drop-shadow(0px 1px 2px rgba(0, 0, 0, 0.3));\n",
              "      fill: #FFFFFF;\n",
              "    }\n",
              "  </style>\n",
              "\n",
              "    <script>\n",
              "      const buttonEl =\n",
              "        document.querySelector('#df-5a815606-26f4-4bdc-8d5b-de8f80041736 button.colab-df-convert');\n",
              "      buttonEl.style.display =\n",
              "        google.colab.kernel.accessAllowed ? 'block' : 'none';\n",
              "\n",
              "      async function convertToInteractive(key) {\n",
              "        const element = document.querySelector('#df-5a815606-26f4-4bdc-8d5b-de8f80041736');\n",
              "        const dataTable =\n",
              "          await google.colab.kernel.invokeFunction('convertToInteractive',\n",
              "                                                    [key], {});\n",
              "        if (!dataTable) return;\n",
              "\n",
              "        const docLinkHtml = 'Like what you see? Visit the ' +\n",
              "          '<a target=\"_blank\" href=https://colab.research.google.com/notebooks/data_table.ipynb>data table notebook</a>'\n",
              "          + ' to learn more about interactive tables.';\n",
              "        element.innerHTML = '';\n",
              "        dataTable['output_type'] = 'display_data';\n",
              "        await google.colab.output.renderOutput(dataTable, element);\n",
              "        const docLink = document.createElement('div');\n",
              "        docLink.innerHTML = docLinkHtml;\n",
              "        element.appendChild(docLink);\n",
              "      }\n",
              "    </script>\n",
              "  </div>\n",
              "\n",
              "\n",
              "    <div id=\"df-600d5f1c-00dd-4e6e-84ab-e6cbb91e7aad\">\n",
              "      <button class=\"colab-df-quickchart\" onclick=\"quickchart('df-600d5f1c-00dd-4e6e-84ab-e6cbb91e7aad')\"\n",
              "                title=\"Suggest charts\"\n",
              "                style=\"display:none;\">\n",
              "\n",
              "<svg xmlns=\"http://www.w3.org/2000/svg\" height=\"24px\"viewBox=\"0 0 24 24\"\n",
              "     width=\"24px\">\n",
              "    <g>\n",
              "        <path d=\"M19 3H5c-1.1 0-2 .9-2 2v14c0 1.1.9 2 2 2h14c1.1 0 2-.9 2-2V5c0-1.1-.9-2-2-2zM9 17H7v-7h2v7zm4 0h-2V7h2v10zm4 0h-2v-4h2v4z\"/>\n",
              "    </g>\n",
              "</svg>\n",
              "      </button>\n",
              "\n",
              "<style>\n",
              "  .colab-df-quickchart {\n",
              "      --bg-color: #E8F0FE;\n",
              "      --fill-color: #1967D2;\n",
              "      --hover-bg-color: #E2EBFA;\n",
              "      --hover-fill-color: #174EA6;\n",
              "      --disabled-fill-color: #AAA;\n",
              "      --disabled-bg-color: #DDD;\n",
              "  }\n",
              "\n",
              "  [theme=dark] .colab-df-quickchart {\n",
              "      --bg-color: #3B4455;\n",
              "      --fill-color: #D2E3FC;\n",
              "      --hover-bg-color: #434B5C;\n",
              "      --hover-fill-color: #FFFFFF;\n",
              "      --disabled-bg-color: #3B4455;\n",
              "      --disabled-fill-color: #666;\n",
              "  }\n",
              "\n",
              "  .colab-df-quickchart {\n",
              "    background-color: var(--bg-color);\n",
              "    border: none;\n",
              "    border-radius: 50%;\n",
              "    cursor: pointer;\n",
              "    display: none;\n",
              "    fill: var(--fill-color);\n",
              "    height: 32px;\n",
              "    padding: 0;\n",
              "    width: 32px;\n",
              "  }\n",
              "\n",
              "  .colab-df-quickchart:hover {\n",
              "    background-color: var(--hover-bg-color);\n",
              "    box-shadow: 0 1px 2px rgba(60, 64, 67, 0.3), 0 1px 3px 1px rgba(60, 64, 67, 0.15);\n",
              "    fill: var(--button-hover-fill-color);\n",
              "  }\n",
              "\n",
              "  .colab-df-quickchart-complete:disabled,\n",
              "  .colab-df-quickchart-complete:disabled:hover {\n",
              "    background-color: var(--disabled-bg-color);\n",
              "    fill: var(--disabled-fill-color);\n",
              "    box-shadow: none;\n",
              "  }\n",
              "\n",
              "  .colab-df-spinner {\n",
              "    border: 2px solid var(--fill-color);\n",
              "    border-color: transparent;\n",
              "    border-bottom-color: var(--fill-color);\n",
              "    animation:\n",
              "      spin 1s steps(1) infinite;\n",
              "  }\n",
              "\n",
              "  @keyframes spin {\n",
              "    0% {\n",
              "      border-color: transparent;\n",
              "      border-bottom-color: var(--fill-color);\n",
              "      border-left-color: var(--fill-color);\n",
              "    }\n",
              "    20% {\n",
              "      border-color: transparent;\n",
              "      border-left-color: var(--fill-color);\n",
              "      border-top-color: var(--fill-color);\n",
              "    }\n",
              "    30% {\n",
              "      border-color: transparent;\n",
              "      border-left-color: var(--fill-color);\n",
              "      border-top-color: var(--fill-color);\n",
              "      border-right-color: var(--fill-color);\n",
              "    }\n",
              "    40% {\n",
              "      border-color: transparent;\n",
              "      border-right-color: var(--fill-color);\n",
              "      border-top-color: var(--fill-color);\n",
              "    }\n",
              "    60% {\n",
              "      border-color: transparent;\n",
              "      border-right-color: var(--fill-color);\n",
              "    }\n",
              "    80% {\n",
              "      border-color: transparent;\n",
              "      border-right-color: var(--fill-color);\n",
              "      border-bottom-color: var(--fill-color);\n",
              "    }\n",
              "    90% {\n",
              "      border-color: transparent;\n",
              "      border-bottom-color: var(--fill-color);\n",
              "    }\n",
              "  }\n",
              "</style>\n",
              "\n",
              "      <script>\n",
              "        async function quickchart(key) {\n",
              "          const quickchartButtonEl =\n",
              "            document.querySelector('#' + key + ' button');\n",
              "          quickchartButtonEl.disabled = true;  // To prevent multiple clicks.\n",
              "          quickchartButtonEl.classList.add('colab-df-spinner');\n",
              "          try {\n",
              "            const charts = await google.colab.kernel.invokeFunction(\n",
              "                'suggestCharts', [key], {});\n",
              "          } catch (error) {\n",
              "            console.error('Error during call to suggestCharts:', error);\n",
              "          }\n",
              "          quickchartButtonEl.classList.remove('colab-df-spinner');\n",
              "          quickchartButtonEl.classList.add('colab-df-quickchart-complete');\n",
              "        }\n",
              "        (() => {\n",
              "          let quickchartButtonEl =\n",
              "            document.querySelector('#df-600d5f1c-00dd-4e6e-84ab-e6cbb91e7aad button');\n",
              "          quickchartButtonEl.style.display =\n",
              "            google.colab.kernel.accessAllowed ? 'block' : 'none';\n",
              "        })();\n",
              "      </script>\n",
              "    </div>\n",
              "\n",
              "    </div>\n",
              "  </div>\n"
            ],
            "application/vnd.google.colaboratory.intrinsic+json": {
              "type": "dataframe",
              "variable_name": "df"
            }
          },
          "metadata": {},
          "execution_count": 53
        }
      ]
    },
    {
      "cell_type": "markdown",
      "source": [
        "# Items faltantes"
      ],
      "metadata": {
        "id": "jQsfCEF6R9CV"
      }
    },
    {
      "cell_type": "code",
      "source": [
        "missing = df.isna().sum().sort_values(ascending=False)\n",
        "missing[missing > 0]"
      ],
      "metadata": {
        "colab": {
          "base_uri": "https://localhost:8080/",
          "height": 84
        },
        "id": "revwpJCdSBXb",
        "outputId": "3b7e891e-aed9-4be2-852d-c5f4b8fbf215"
      },
      "execution_count": 54,
      "outputs": [
        {
          "output_type": "execute_result",
          "data": {
            "text/plain": [
              "Series([], dtype: int64)"
            ],
            "text/html": [
              "<div>\n",
              "<style scoped>\n",
              "    .dataframe tbody tr th:only-of-type {\n",
              "        vertical-align: middle;\n",
              "    }\n",
              "\n",
              "    .dataframe tbody tr th {\n",
              "        vertical-align: top;\n",
              "    }\n",
              "\n",
              "    .dataframe thead th {\n",
              "        text-align: right;\n",
              "    }\n",
              "</style>\n",
              "<table border=\"1\" class=\"dataframe\">\n",
              "  <thead>\n",
              "    <tr style=\"text-align: right;\">\n",
              "      <th></th>\n",
              "      <th>0</th>\n",
              "    </tr>\n",
              "  </thead>\n",
              "  <tbody>\n",
              "  </tbody>\n",
              "</table>\n",
              "</div><br><label><b>dtype:</b> int64</label>"
            ]
          },
          "metadata": {},
          "execution_count": 54
        }
      ]
    },
    {
      "cell_type": "markdown",
      "source": [
        "En este caso la Base de datos está completa por lo que no es necesario eliminar ningún linea.\n",
        "# Análisis Univariado\n",
        "**Cantidad de Delitos por Departamento**\n"
      ],
      "metadata": {
        "id": "97bmgZegSPHj"
      }
    },
    {
      "cell_type": "code",
      "source": [
        "sns.countplot(x='DEPARTAMENTO', data=df)\n",
        "plt.title('Cantidad de delitos por Departamento')\n",
        "plt.xticks(fontsize=6,rotation=45)\n",
        "plt.show()"
      ],
      "metadata": {
        "colab": {
          "base_uri": "https://localhost:8080/",
          "height": 536
        },
        "id": "5q5lCYMfSn4b",
        "outputId": "90071107-a1f2-498b-84a0-80cde032356d"
      },
      "execution_count": 55,
      "outputs": [
        {
          "output_type": "display_data",
          "data": {
            "text/plain": [
              "<Figure size 640x480 with 1 Axes>"
            ],
            "image/png": "[encoded data removed]"
          },
          "metadata": {}
        }
      ]
    },
    {
      "cell_type": "markdown",
      "source": [
        "En este gráfico se puede observar fácilmente que el Departamento donde más ocurren los delitos son Montevideo y Canelones; considerando que son los Departamentos que más gente tiene, no es raro que se dé de esta manera."
      ],
      "metadata": {
        "id": "wz2yFsOPUFHE"
      }
    },
    {
      "cell_type": "markdown",
      "source": [
        "**Distribución de Cantidad de delitos por Año**"
      ],
      "metadata": {
        "id": "ckDx3EgZUZsY"
      }
    },
    {
      "cell_type": "code",
      "source": [
        "sns.histplot(df['AÃO'], bins=30, kde=True)\n",
        "plt.title('Distribución de Cantidad de delitos por año')\n",
        "plt.xlabel('Año')\n",
        "years = sorted(df['AÃO'].unique())\n",
        "plt.xticks(years,fontsize=6)\n",
        "plt.show()"
      ],
      "metadata": {
        "colab": {
          "base_uri": "https://localhost:8080/",
          "height": 467
        },
        "id": "twxxPvcTUZDT",
        "outputId": "85770313-e8fb-4126-9185-8ef1ca02ed81"
      },
      "execution_count": 56,
      "outputs": [
        {
          "output_type": "display_data",
          "data": {
            "text/plain": [
              "<Figure size 640x480 with 1 Axes>"
            ],
            "image/png": "[encoded data removed]"
          },
          "metadata": {}
        }
      ]
    },
    {
      "cell_type": "markdown",
      "source": [
        "No existe una mejora ni un aumento de la cantidad de delitos de manera significativa en los últimos años, si se observa un salto muy grande desde 2017 al 2018 que en los años siguientes no disminuye de manera significativa. En 2025 aún hay \"pocos\" delitos pero asumiendo que faltan 8 meses aún en la base de datos no podemos sacar ninguna conclusión."
      ],
      "metadata": {
        "id": "QSNlDYh7Wn9G"
      }
    },
    {
      "cell_type": "markdown",
      "source": [
        "# 🔀 Análisis Bivariado\n",
        "**Delitos divididos por Año y genero de la victima**"
      ],
      "metadata": {
        "id": "RVNQqWX-XQwZ"
      }
    },
    {
      "cell_type": "code",
      "source": [
        "sns.countplot(data=df, x='AÃO', hue='SEXO')\n",
        "plt.xticks(rotation=45)\n",
        "plt.title('Delitos cometidos por año según el genero de la victima')\n",
        "plt.show()"
      ],
      "metadata": {
        "colab": {
          "base_uri": "https://localhost:8080/",
          "height": 531
        },
        "id": "xZKa8iVmgK_y",
        "outputId": "807f2717-421e-4a49-921f-c8f8c96bedbc"
      },
      "execution_count": 57,
      "outputs": [
        {
          "output_type": "stream",
          "name": "stderr",
          "text": [
            "/usr/local/lib/python3.11/dist-packages/IPython/core/pylabtools.py:151: UserWarning: Glyph 145 (\\x91) missing from font(s) DejaVu Sans.\n",
            "  fig.canvas.print_figure(bytes_io, **kw)\n"
          ]
        },
        {
          "output_type": "display_data",
          "data": {
            "text/plain": [
              "<Figure size 640x480 with 1 Axes>"
            ],
            "image/png": "[encoded data removed]"
          },
          "metadata": {}
        }
      ]
    },
    {
      "cell_type": "markdown",
      "source": [
        "Existen más delitos en los cuales las victimas son hombres; además, son muy pocos los casos donde no se pudo determinar el sexo de la persona.\n",
        "\n",
        "**Distribución de delitos por horario cometido con Victimas Hombres**"
      ],
      "metadata": {
        "id": "HBs3Xmv9h1Fk"
      }
    },
    {
      "cell_type": "code",
      "source": [
        "df_distribucion = df[df['SEXO'] == 'HOMBRE'].copy()\n",
        "df_distribucion['HORA'] = pd.to_numeric(df_distribucion['HORA'], errors='coerce')\n",
        "df_distribucion = df_distribucion.dropna(subset=['HORA'])\n",
        "df_distribucion['HORA'] = df_distribucion['HORA'].astype(int)\n",
        "\n",
        "sns.histplot(data=df_distribucion, x='HORA', bins=24)\n",
        "plt.title('Horario cometido con Victimas Hombres')\n",
        "plt.xlabel('Hora')\n",
        "plt.show()"
      ],
      "metadata": {
        "colab": {
          "base_uri": "https://localhost:8080/",
          "height": 472
        },
        "id": "-Cnb6Ulhigac",
        "outputId": "2fd88c3e-de06-4e85-cde0-2fdbe0294feb"
      },
      "execution_count": 58,
      "outputs": [
        {
          "output_type": "display_data",
          "data": {
            "text/plain": [
              "<Figure size 640x480 with 1 Axes>"
            ],
            "image/png": "[encoded data removed]"
          },
          "metadata": {}
        }
      ]
    },
    {
      "cell_type": "markdown",
      "source": [
        "Existe una mayor cantidad de delitos contra hombres en los horarios nocturnos, principalmente entre las 21 y las 0hs.\n",
        "\n",
        "**Distribución de delitos por horario cometido con Victimas Mujeres**\n"
      ],
      "metadata": {
        "id": "rahC4urYl94d"
      }
    },
    {
      "cell_type": "code",
      "source": [
        "df_distribucion = df[df['SEXO'] == 'MUJER'].copy()\n",
        "df_distribucion['HORA'] = pd.to_numeric(df_distribucion['HORA'], errors='coerce')\n",
        "df_distribucion = df_distribucion.dropna(subset=['HORA'])\n",
        "df_distribucion['HORA'] = df_distribucion['HORA'].astype(int)\n",
        "\n",
        "sns.histplot(data=df_distribucion, x='HORA', bins=24)\n",
        "plt.title('Horario cometido con Victimas Mujeres')\n",
        "plt.xlabel('Hora')\n",
        "plt.show()"
      ],
      "metadata": {
        "colab": {
          "base_uri": "https://localhost:8080/",
          "height": 472
        },
        "id": "vf5HiMzhmPX4",
        "outputId": "46a305eb-076e-4e0c-aed8-dd2d31e87a61"
      },
      "execution_count": 59,
      "outputs": [
        {
          "output_type": "display_data",
          "data": {
            "text/plain": [
              "<Figure size 640x480 with 1 Axes>"
            ],
            "image/png": "[encoded data removed]"
          },
          "metadata": {}
        }
      ]
    },
    {
      "cell_type": "markdown",
      "source": [
        "En las mujeres si la ejecución de los delitos fue más variada en el rango horario, va en aumento hacia la noche pero también existen muchos en otros horarios.\n",
        "# 🔁 4. Análisis Multivariado\n",
        "**Género de Víctima vs Arma de fuego utilizada**"
      ],
      "metadata": {
        "id": "sT0uAfXBmYhV"
      }
    },
    {
      "cell_type": "code",
      "source": [
        "top_countries = df['ARMAREC'].value_counts().head(5).index\n",
        "df_top = df[df['ARMAREC'].isin(top_countries)]\n",
        "\n",
        "plt.figure(figsize=(12, 6))\n",
        "sns.countplot(data=df_top, x='ARMAREC', hue='SEXO')\n",
        "plt.xticks(fontsize=8,rotation=45)\n",
        "plt.title('Género de Víctima vs Arma de fuego utilizada')\n",
        "plt.show()\n",
        "\n"
      ],
      "metadata": {
        "colab": {
          "base_uri": "https://localhost:8080/",
          "height": 811
        },
        "id": "sHyFCsQNm4kG",
        "outputId": "906d100f-617e-4bd2-cf2b-ef3618988fe3"
      },
      "execution_count": 60,
      "outputs": [
        {
          "output_type": "display_data",
          "data": {
            "text/plain": [
              "<Figure size 1200x600 with 1 Axes>"
            ],
            "image/png": "[encoded data removed]"
          },
          "metadata": {}
        }
      ]
    },
    {
      "cell_type": "markdown",
      "source": [
        "El arma más utilizada es la de Fuego para ambos sexos.\n",
        "\n",
        "\n",
        "# ✅ Conclusiones preliminares\n",
        "\n",
        "*   Los Departamentos donde más ocurren los delitos son Montevideo y Canelones, siendo Montevideo la capital del país.\n",
        "*   Desde el 2013 a la fecha no ha disminuido la cantidad de delitos, en 2017 creció significativamente pero no ha disminuido hasta la fecha de una manera relevante.\n",
        "*   Los hombres son la mayor cantidad de victimas, siendo estos asesinados principalmente entre las 21 y las 0hs. Las mujeres en cambio no tienen una franja de horario fija, los delitos se distribuyen más al correr del día.\n",
        "*   El arma de fuego es la herramienta más utilizada en estos delitos.\n"
      ],
      "metadata": {
        "id": "AwzguBCVopz0"
      }
    },
    {
      "cell_type": "markdown",
      "source": [
        "Codificación de variables categóricas"
      ],
      "metadata": {
        "id": "ZK2Z4840aFC6"
      }
    },
    {
      "cell_type": "code",
      "source": [
        "from sklearn.preprocessing import OneHotEncoder\n",
        "encoder = OneHotEncoder()\n",
        "encoded_data = encoder.fit_transform(df[['ACLARADO']])"
      ],
      "metadata": {
        "id": "0kok-5AnaLiO"
      },
      "execution_count": 61,
      "outputs": []
    },
    {
      "cell_type": "code",
      "source": [
        "from sklearn.ensemble import RandomForestClassifier\n",
        "model = RandomForestClassifier()\n",
        "model.fit(X, y)\n",
        "importancias = model.feature_importances_"
      ],
      "metadata": {
        "id": "VY2YWccBao6i"
      },
      "execution_count": 62,
      "outputs": []
    },
    {
      "cell_type": "code",
      "source": [
        "from sklearn.model_selection import train_test_split\n",
        "X_train, X_test, y_train, y_test = train_test_split(X, y, test_size=0.2, random_state=42)"
      ],
      "metadata": {
        "id": "mCwOmmUla9uk"
      },
      "execution_count": 63,
      "outputs": []
    },
    {
      "cell_type": "code",
      "source": [
        "X_train, X_temp, y_train, y_temp = train_test_split(X, y, test_size=0.4, random_state=42)\n",
        "X_val, X_test, y_val, y_test = train_test_split(X_temp, y_temp, test_size=0.5, random_state=42)"
      ],
      "metadata": {
        "id": "-DC0WwrfbMDE"
      },
      "execution_count": 64,
      "outputs": []
    },
    {
      "cell_type": "code",
      "source": [
        "from sklearn.ensemble import RandomForestClassifier\n",
        "model = RandomForestClassifier()"
      ],
      "metadata": {
        "id": "t_FLLUpnbYl2"
      },
      "execution_count": 65,
      "outputs": []
    },
    {
      "cell_type": "code",
      "source": [
        "model.fit(X_train, y_train)"
      ],
      "metadata": {
        "id": "ITz8_lk6b5Cs",
        "outputId": "8c0dbdf5-8574-48e1-b0af-ef58206ab7c6",
        "colab": {
          "base_uri": "https://localhost:8080/",
          "height": 80
        }
      },
      "execution_count": 66,
      "outputs": [
        {
          "output_type": "execute_result",
          "data": {
            "text/plain": [
              "RandomForestClassifier()"
            ],
            "text/html": [
              "<style>#sk-container-id-3 {\n",
              "  /* Definition of color scheme common for light and dark mode */\n",
              "  --sklearn-color-text: #000;\n",
              "  --sklearn-color-text-muted: #666;\n",
              "  --sklearn-color-line: gray;\n",
              "  /* Definition of color scheme for unfitted estimators */\n",
              "  --sklearn-color-unfitted-level-0: #fff5e6;\n",
              "  --sklearn-color-unfitted-level-1: #f6e4d2;\n",
              "  --sklearn-color-unfitted-level-2: #ffe0b3;\n",
              "  --sklearn-color-unfitted-level-3: chocolate;\n",
              "  /* Definition of color scheme for fitted estimators */\n",
              "  --sklearn-color-fitted-level-0: #f0f8ff;\n",
              "  --sklearn-color-fitted-level-1: #d4ebff;\n",
              "  --sklearn-color-fitted-level-2: #b3dbfd;\n",
              "  --sklearn-color-fitted-level-3: cornflowerblue;\n",
              "\n",
              "  /* Specific color for light theme */\n",
              "  --sklearn-color-text-on-default-background: var(--sg-text-color, var(--theme-code-foreground, var(--jp-content-font-color1, black)));\n",
              "  --sklearn-color-background: var(--sg-background-color, var(--theme-background, var(--jp-layout-color0, white)));\n",
              "  --sklearn-color-border-box: var(--sg-text-color, var(--theme-code-foreground, var(--jp-content-font-color1, black)));\n",
              "  --sklearn-color-icon: #696969;\n",
              "\n",
              "  @media (prefers-color-scheme: dark) {\n",
              "    /* Redefinition of color scheme for dark theme */\n",
              "    --sklearn-color-text-on-default-background: var(--sg-text-color, var(--theme-code-foreground, var(--jp-content-font-color1, white)));\n",
              "    --sklearn-color-background: var(--sg-background-color, var(--theme-background, var(--jp-layout-color0, #111)));\n",
              "    --sklearn-color-border-box: var(--sg-text-color, var(--theme-code-foreground, var(--jp-content-font-color1, white)));\n",
              "    --sklearn-color-icon: #878787;\n",
              "  }\n",
              "}\n",
              "\n",
              "#sk-container-id-3 {\n",
              "  color: var(--sklearn-color-text);\n",
              "}\n",
              "\n",
              "#sk-container-id-3 pre {\n",
              "  padding: 0;\n",
              "}\n",
              "\n",
              "#sk-container-id-3 input.sk-hidden--visually {\n",
              "  border: 0;\n",
              "  clip: rect(1px 1px 1px 1px);\n",
              "  clip: rect(1px, 1px, 1px, 1px);\n",
              "  height: 1px;\n",
              "  margin: -1px;\n",
              "  overflow: hidden;\n",
              "  padding: 0;\n",
              "  position: absolute;\n",
              "  width: 1px;\n",
              "}\n",
              "\n",
              "#sk-container-id-3 div.sk-dashed-wrapped {\n",
              "  border: 1px dashed var(--sklearn-color-line);\n",
              "  margin: 0 0.4em 0.5em 0.4em;\n",
              "  box-sizing: border-box;\n",
              "  padding-bottom: 0.4em;\n",
              "  background-color: var(--sklearn-color-background);\n",
              "}\n",
              "\n",
              "#sk-container-id-3 div.sk-container {\n",
              "  /* jupyter's `normalize.less` sets `[hidden] { display: none; }`\n",
              "     but bootstrap.min.css set `[hidden] { display: none !important; }`\n",
              "     so we also need the `!important` here to be able to override the\n",
              "     default hidden behavior on the sphinx rendered scikit-learn.org.\n",
              "     See: https://github.com/scikit-learn/scikit-learn/issues/21755 */\n",
              "  display: inline-block !important;\n",
              "  position: relative;\n",
              "}\n",
              "\n",
              "#sk-container-id-3 div.sk-text-repr-fallback {\n",
              "  display: none;\n",
              "}\n",
              "\n",
              "div.sk-parallel-item,\n",
              "div.sk-serial,\n",
              "div.sk-item {\n",
              "  /* draw centered vertical line to link estimators */\n",
              "  background-image: linear-gradient(var(--sklearn-color-text-on-default-background), var(--sklearn-color-text-on-default-background));\n",
              "  background-size: 2px 100%;\n",
              "  background-repeat: no-repeat;\n",
              "  background-position: center center;\n",
              "}\n",
              "\n",
              "/* Parallel-specific style estimator block */\n",
              "\n",
              "#sk-container-id-3 div.sk-parallel-item::after {\n",
              "  content: \"\";\n",
              "  width: 100%;\n",
              "  border-bottom: 2px solid var(--sklearn-color-text-on-default-background);\n",
              "  flex-grow: 1;\n",
              "}\n",
              "\n",
              "#sk-container-id-3 div.sk-parallel {\n",
              "  display: flex;\n",
              "  align-items: stretch;\n",
              "  justify-content: center;\n",
              "  background-color: var(--sklearn-color-background);\n",
              "  position: relative;\n",
              "}\n",
              "\n",
              "#sk-container-id-3 div.sk-parallel-item {\n",
              "  display: flex;\n",
              "  flex-direction: column;\n",
              "}\n",
              "\n",
              "#sk-container-id-3 div.sk-parallel-item:first-child::after {\n",
              "  align-self: flex-end;\n",
              "  width: 50%;\n",
              "}\n",
              "\n",
              "#sk-container-id-3 div.sk-parallel-item:last-child::after {\n",
              "  align-self: flex-start;\n",
              "  width: 50%;\n",
              "}\n",
              "\n",
              "#sk-container-id-3 div.sk-parallel-item:only-child::after {\n",
              "  width: 0;\n",
              "}\n",
              "\n",
              "/* Serial-specific style estimator block */\n",
              "\n",
              "#sk-container-id-3 div.sk-serial {\n",
              "  display: flex;\n",
              "  flex-direction: column;\n",
              "  align-items: center;\n",
              "  background-color: var(--sklearn-color-background);\n",
              "  padding-right: 1em;\n",
              "  padding-left: 1em;\n",
              "}\n",
              "\n",
              "\n",
              "/* Toggleable style: style used for estimator/Pipeline/ColumnTransformer box that is\n",
              "clickable and can be expanded/collapsed.\n",
              "- Pipeline and ColumnTransformer use this feature and define the default style\n",
              "- Estimators will overwrite some part of the style using the `sk-estimator` class\n",
              "*/\n",
              "\n",
              "/* Pipeline and ColumnTransformer style (default) */\n",
              "\n",
              "#sk-container-id-3 div.sk-toggleable {\n",
              "  /* Default theme specific background. It is overwritten whether we have a\n",
              "  specific estimator or a Pipeline/ColumnTransformer */\n",
              "  background-color: var(--sklearn-color-background);\n",
              "}\n",
              "\n",
              "/* Toggleable label */\n",
              "#sk-container-id-3 label.sk-toggleable__label {\n",
              "  cursor: pointer;\n",
              "  display: flex;\n",
              "  width: 100%;\n",
              "  margin-bottom: 0;\n",
              "  padding: 0.5em;\n",
              "  box-sizing: border-box;\n",
              "  text-align: center;\n",
              "  align-items: start;\n",
              "  justify-content: space-between;\n",
              "  gap: 0.5em;\n",
              "}\n",
              "\n",
              "#sk-container-id-3 label.sk-toggleable__label .caption {\n",
              "  font-size: 0.6rem;\n",
              "  font-weight: lighter;\n",
              "  color: var(--sklearn-color-text-muted);\n",
              "}\n",
              "\n",
              "#sk-container-id-3 label.sk-toggleable__label-arrow:before {\n",
              "  /* Arrow on the left of the label */\n",
              "  content: \"▸\";\n",
              "  float: left;\n",
              "  margin-right: 0.25em;\n",
              "  color: var(--sklearn-color-icon);\n",
              "}\n",
              "\n",
              "#sk-container-id-3 label.sk-toggleable__label-arrow:hover:before {\n",
              "  color: var(--sklearn-color-text);\n",
              "}\n",
              "\n",
              "/* Toggleable content - dropdown */\n",
              "\n",
              "#sk-container-id-3 div.sk-toggleable__content {\n",
              "  max-height: 0;\n",
              "  max-width: 0;\n",
              "  overflow: hidden;\n",
              "  text-align: left;\n",
              "  /* unfitted */\n",
              "  background-color: var(--sklearn-color-unfitted-level-0);\n",
              "}\n",
              "\n",
              "#sk-container-id-3 div.sk-toggleable__content.fitted {\n",
              "  /* fitted */\n",
              "  background-color: var(--sklearn-color-fitted-level-0);\n",
              "}\n",
              "\n",
              "#sk-container-id-3 div.sk-toggleable__content pre {\n",
              "  margin: 0.2em;\n",
              "  border-radius: 0.25em;\n",
              "  color: var(--sklearn-color-text);\n",
              "  /* unfitted */\n",
              "  background-color: var(--sklearn-color-unfitted-level-0);\n",
              "}\n",
              "\n",
              "#sk-container-id-3 div.sk-toggleable__content.fitted pre {\n",
              "  /* unfitted */\n",
              "  background-color: var(--sklearn-color-fitted-level-0);\n",
              "}\n",
              "\n",
              "#sk-container-id-3 input.sk-toggleable__control:checked~div.sk-toggleable__content {\n",
              "  /* Expand drop-down */\n",
              "  max-height: 200px;\n",
              "  max-width: 100%;\n",
              "  overflow: auto;\n",
              "}\n",
              "\n",
              "#sk-container-id-3 input.sk-toggleable__control:checked~label.sk-toggleable__label-arrow:before {\n",
              "  content: \"▾\";\n",
              "}\n",
              "\n",
              "/* Pipeline/ColumnTransformer-specific style */\n",
              "\n",
              "#sk-container-id-3 div.sk-label input.sk-toggleable__control:checked~label.sk-toggleable__label {\n",
              "  color: var(--sklearn-color-text);\n",
              "  background-color: var(--sklearn-color-unfitted-level-2);\n",
              "}\n",
              "\n",
              "#sk-container-id-3 div.sk-label.fitted input.sk-toggleable__control:checked~label.sk-toggleable__label {\n",
              "  background-color: var(--sklearn-color-fitted-level-2);\n",
              "}\n",
              "\n",
              "/* Estimator-specific style */\n",
              "\n",
              "/* Colorize estimator box */\n",
              "#sk-container-id-3 div.sk-estimator input.sk-toggleable__control:checked~label.sk-toggleable__label {\n",
              "  /* unfitted */\n",
              "  background-color: var(--sklearn-color-unfitted-level-2);\n",
              "}\n",
              "\n",
              "#sk-container-id-3 div.sk-estimator.fitted input.sk-toggleable__control:checked~label.sk-toggleable__label {\n",
              "  /* fitted */\n",
              "  background-color: var(--sklearn-color-fitted-level-2);\n",
              "}\n",
              "\n",
              "#sk-container-id-3 div.sk-label label.sk-toggleable__label,\n",
              "#sk-container-id-3 div.sk-label label {\n",
              "  /* The background is the default theme color */\n",
              "  color: var(--sklearn-color-text-on-default-background);\n",
              "}\n",
              "\n",
              "/* On hover, darken the color of the background */\n",
              "#sk-container-id-3 div.sk-label:hover label.sk-toggleable__label {\n",
              "  color: var(--sklearn-color-text);\n",
              "  background-color: var(--sklearn-color-unfitted-level-2);\n",
              "}\n",
              "\n",
              "/* Label box, darken color on hover, fitted */\n",
              "#sk-container-id-3 div.sk-label.fitted:hover label.sk-toggleable__label.fitted {\n",
              "  color: var(--sklearn-color-text);\n",
              "  background-color: var(--sklearn-color-fitted-level-2);\n",
              "}\n",
              "\n",
              "/* Estimator label */\n",
              "\n",
              "#sk-container-id-3 div.sk-label label {\n",
              "  font-family: monospace;\n",
              "  font-weight: bold;\n",
              "  display: inline-block;\n",
              "  line-height: 1.2em;\n",
              "}\n",
              "\n",
              "#sk-container-id-3 div.sk-label-container {\n",
              "  text-align: center;\n",
              "}\n",
              "\n",
              "/* Estimator-specific */\n",
              "#sk-container-id-3 div.sk-estimator {\n",
              "  font-family: monospace;\n",
              "  border: 1px dotted var(--sklearn-color-border-box);\n",
              "  border-radius: 0.25em;\n",
              "  box-sizing: border-box;\n",
              "  margin-bottom: 0.5em;\n",
              "  /* unfitted */\n",
              "  background-color: var(--sklearn-color-unfitted-level-0);\n",
              "}\n",
              "\n",
              "#sk-container-id-3 div.sk-estimator.fitted {\n",
              "  /* fitted */\n",
              "  background-color: var(--sklearn-color-fitted-level-0);\n",
              "}\n",
              "\n",
              "/* on hover */\n",
              "#sk-container-id-3 div.sk-estimator:hover {\n",
              "  /* unfitted */\n",
              "  background-color: var(--sklearn-color-unfitted-level-2);\n",
              "}\n",
              "\n",
              "#sk-container-id-3 div.sk-estimator.fitted:hover {\n",
              "  /* fitted */\n",
              "  background-color: var(--sklearn-color-fitted-level-2);\n",
              "}\n",
              "\n",
              "/* Specification for estimator info (e.g. \"i\" and \"?\") */\n",
              "\n",
              "/* Common style for \"i\" and \"?\" */\n",
              "\n",
              ".sk-estimator-doc-link,\n",
              "a:link.sk-estimator-doc-link,\n",
              "a:visited.sk-estimator-doc-link {\n",
              "  float: right;\n",
              "  font-size: smaller;\n",
              "  line-height: 1em;\n",
              "  font-family: monospace;\n",
              "  background-color: var(--sklearn-color-background);\n",
              "  border-radius: 1em;\n",
              "  height: 1em;\n",
              "  width: 1em;\n",
              "  text-decoration: none !important;\n",
              "  margin-left: 0.5em;\n",
              "  text-align: center;\n",
              "  /* unfitted */\n",
              "  border: var(--sklearn-color-unfitted-level-1) 1pt solid;\n",
              "  color: var(--sklearn-color-unfitted-level-1);\n",
              "}\n",
              "\n",
              ".sk-estimator-doc-link.fitted,\n",
              "a:link.sk-estimator-doc-link.fitted,\n",
              "a:visited.sk-estimator-doc-link.fitted {\n",
              "  /* fitted */\n",
              "  border: var(--sklearn-color-fitted-level-1) 1pt solid;\n",
              "  color: var(--sklearn-color-fitted-level-1);\n",
              "}\n",
              "\n",
              "/* On hover */\n",
              "div.sk-estimator:hover .sk-estimator-doc-link:hover,\n",
              ".sk-estimator-doc-link:hover,\n",
              "div.sk-label-container:hover .sk-estimator-doc-link:hover,\n",
              ".sk-estimator-doc-link:hover {\n",
              "  /* unfitted */\n",
              "  background-color: var(--sklearn-color-unfitted-level-3);\n",
              "  color: var(--sklearn-color-background);\n",
              "  text-decoration: none;\n",
              "}\n",
              "\n",
              "div.sk-estimator.fitted:hover .sk-estimator-doc-link.fitted:hover,\n",
              ".sk-estimator-doc-link.fitted:hover,\n",
              "div.sk-label-container:hover .sk-estimator-doc-link.fitted:hover,\n",
              ".sk-estimator-doc-link.fitted:hover {\n",
              "  /* fitted */\n",
              "  background-color: var(--sklearn-color-fitted-level-3);\n",
              "  color: var(--sklearn-color-background);\n",
              "  text-decoration: none;\n",
              "}\n",
              "\n",
              "/* Span, style for the box shown on hovering the info icon */\n",
              ".sk-estimator-doc-link span {\n",
              "  display: none;\n",
              "  z-index: 9999;\n",
              "  position: relative;\n",
              "  font-weight: normal;\n",
              "  right: .2ex;\n",
              "  padding: .5ex;\n",
              "  margin: .5ex;\n",
              "  width: min-content;\n",
              "  min-width: 20ex;\n",
              "  max-width: 50ex;\n",
              "  color: var(--sklearn-color-text);\n",
              "  box-shadow: 2pt 2pt 4pt #999;\n",
              "  /* unfitted */\n",
              "  background: var(--sklearn-color-unfitted-level-0);\n",
              "  border: .5pt solid var(--sklearn-color-unfitted-level-3);\n",
              "}\n",
              "\n",
              ".sk-estimator-doc-link.fitted span {\n",
              "  /* fitted */\n",
              "  background: var(--sklearn-color-fitted-level-0);\n",
              "  border: var(--sklearn-color-fitted-level-3);\n",
              "}\n",
              "\n",
              ".sk-estimator-doc-link:hover span {\n",
              "  display: block;\n",
              "}\n",
              "\n",
              "/* \"?\"-specific style due to the `<a>` HTML tag */\n",
              "\n",
              "#sk-container-id-3 a.estimator_doc_link {\n",
              "  float: right;\n",
              "  font-size: 1rem;\n",
              "  line-height: 1em;\n",
              "  font-family: monospace;\n",
              "  background-color: var(--sklearn-color-background);\n",
              "  border-radius: 1rem;\n",
              "  height: 1rem;\n",
              "  width: 1rem;\n",
              "  text-decoration: none;\n",
              "  /* unfitted */\n",
              "  color: var(--sklearn-color-unfitted-level-1);\n",
              "  border: var(--sklearn-color-unfitted-level-1) 1pt solid;\n",
              "}\n",
              "\n",
              "#sk-container-id-3 a.estimator_doc_link.fitted {\n",
              "  /* fitted */\n",
              "  border: var(--sklearn-color-fitted-level-1) 1pt solid;\n",
              "  color: var(--sklearn-color-fitted-level-1);\n",
              "}\n",
              "\n",
              "/* On hover */\n",
              "#sk-container-id-3 a.estimator_doc_link:hover {\n",
              "  /* unfitted */\n",
              "  background-color: var(--sklearn-color-unfitted-level-3);\n",
              "  color: var(--sklearn-color-background);\n",
              "  text-decoration: none;\n",
              "}\n",
              "\n",
              "#sk-container-id-3 a.estimator_doc_link.fitted:hover {\n",
              "  /* fitted */\n",
              "  background-color: var(--sklearn-color-fitted-level-3);\n",
              "}\n",
              "</style><div id=\"sk-container-id-3\" class=\"sk-top-container\"><div class=\"sk-text-repr-fallback\"><pre>RandomForestClassifier()</pre><b>In a Jupyter environment, please rerun this cell to show the HTML representation or trust the notebook. <br />On GitHub, the HTML representation is unable to render, please try loading this page with nbviewer.org.</b></div><div class=\"sk-container\" hidden><div class=\"sk-item\"><div class=\"sk-estimator fitted sk-toggleable\"><input class=\"sk-toggleable__control sk-hidden--visually\" id=\"sk-estimator-id-3\" type=\"checkbox\" checked><label for=\"sk-estimator-id-3\" class=\"sk-toggleable__label fitted sk-toggleable__label-arrow\"><div><div>RandomForestClassifier</div></div><div><a class=\"sk-estimator-doc-link fitted\" rel=\"noreferrer\" target=\"_blank\" href=\"https://scikit-learn.org/1.6/modules/generated/sklearn.ensemble.RandomForestClassifier.html\">?<span>Documentation for RandomForestClassifier</span></a><span class=\"sk-estimator-doc-link fitted\">i<span>Fitted</span></span></div></label><div class=\"sk-toggleable__content fitted\"><pre>RandomForestClassifier()</pre></div> </div></div></div></div>"
            ]
          },
          "metadata": {},
          "execution_count": 66
        }
      ]
    },
    {
      "cell_type": "code",
      "source": [
        "from sklearn.metrics import accuracy_score, classification_report\n",
        "y_pred = model.predict(X_test)\n",
        "print(accuracy_score(y_test, y_pred))\n",
        "print(classification_report(y_test, y_pred))"
      ],
      "metadata": {
        "id": "vBvW1lldb9H8",
        "outputId": "0f585ccf-93d6-470c-cb8d-f9143678c695",
        "colab": {
          "base_uri": "https://localhost:8080/"
        }
      },
      "execution_count": 67,
      "outputs": [
        {
          "output_type": "stream",
          "name": "stdout",
          "text": [
            "1.0\n",
            "              precision    recall  f1-score   support\n",
            "\n",
            "           0       1.00      1.00      1.00       493\n",
            "           1       1.00      1.00      1.00       324\n",
            "\n",
            "    accuracy                           1.00       817\n",
            "   macro avg       1.00      1.00      1.00       817\n",
            "weighted avg       1.00      1.00      1.00       817\n",
            "\n"
          ]
        }
      ]
    },
    {
      "cell_type": "code",
      "source": [
        "from sklearn.model_selection import cross_val_score\n",
        "scores = cross_val_score(model, X, y, cv=5, scoring='accuracy')\n",
        "print(\"Precisión promedio:\", scores.mean())"
      ],
      "metadata": {
        "id": "EP9mJhc6cD98",
        "outputId": "28ec65ab-d101-4fdf-edc2-02466e7256b4",
        "colab": {
          "base_uri": "https://localhost:8080/"
        }
      },
      "execution_count": 68,
      "outputs": [
        {
          "output_type": "stream",
          "name": "stdout",
          "text": [
            "Precisión promedio: 1.0\n"
          ]
        }
      ]
    }
  ]
}