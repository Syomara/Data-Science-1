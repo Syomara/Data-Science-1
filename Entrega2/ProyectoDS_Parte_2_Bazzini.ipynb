{
  "nbformat": 4,
  "nbformat_minor": 0,
  "metadata": {
    "colab": {
      "provenance": [],
      "authorship_tag": "ABX9TyMUktGDc/JbgrpgDhLP105j",
      "include_colab_link": true
    },
    "kernelspec": {
      "name": "python3",
      "display_name": "Python 3"
    },
    "language_info": {
      "name": "python"
    }
  },
  "cells": [
    {
      "cell_type": "markdown",
      "metadata": {
        "id": "view-in-github",
        "colab_type": "text"
      },
      "source": [
        "<a href=\"https://colab.research.google.com/github/Syomara/Data-Science-1/blob/main/Entrega2/ProyectoDS_Parte_2_Bazzini.ipynb\" target=\"_parent\"><img src=\"https://colab.research.google.com/assets/colab-badge.svg\" alt=\"Open In Colab\"/></a>"
      ]
    },
    {
      "cell_type": "markdown",
      "source": [
        "## Proyecto Final - Visualizaciones en Python\n",
        "# Primera Entrega\n",
        "\n",
        "# 📌 Resumen\n",
        "\n",
        "Este proyecto utiliza un dataset denominado Delitos denunciados en Uruguay que proviene del Catálogo de Datos Abiertos de Uruguay. El mismo detalla información de todos los delitos denunciados desde Enero 2013 a Abril del 2025, dentro de los datos incluidos en el dataset se encuentran: fecha y lugar del delito, jurisdicción donde ocurrió, motivo aparente y arma utilizada, además se aclara si el delito llegó a aclararse o no y, por último, datos personales de la victima.\n",
        "\n",
        "Durante este proyecto se comenzará realizando un análisis de los datos para evaluar si faltan datos en el dataset y se decidirá que realizar de acuerdo al resultado de esta evaluación. Por otro lado se crearán visualizaciones simples utilizando herramientas de Phyton como Matplotlib, Pandas y Seaborn, de esta manera se determinarán las conclusiones y se responderan preguntas claves para el cumplimiento de los objetivos del proyecto.\n",
        "\n",
        "\n",
        "El objetivo del proyecto es evaluar en que lugar del Uruguay ocurren la mayor cantidad de delitos, además de evaluar si existe algún patrón en las victimas de estos delitos.\n",
        "\n",
        "# ❓Preguntas / Hipótesis de interés\n",
        "\n",
        "1.   ¿En qúe localidad de Uruguay se encuentran la mayor cantidad de delitos denuciados?\n",
        "2.   ¿Cómo se distribuyen estos delitos a lo largo de los años?\n",
        "3.   ¿Qué género es más común en las victimas?\n",
        "4.   ¿Cuán común es la resolución del delito?\n",
        "\n",
        "# Objetivo del Proyecto\n",
        "El objetivo de este proyecto es desarrollar un modelo predictivo de la problemática de los delitos en Uruguay generando una base de estudio para estratificar más fácilmente donde está el problema de delitos y así generar un pareto que permita resolver el problema más fácilmente atacando la mayor cantidad de causas.\n",
        "\n",
        "# 📊 Visualizaciones y Análisis\n"
      ],
      "metadata": {
        "id": "fIdyDwgC_WUG"
      }
    },
    {
      "cell_type": "code",
      "source": [
        "import pandas as pd\n",
        "import seaborn as sns\n",
        "import matplotlib.pyplot as plt\n",
        "\n",
        "# Cargar datos\n",
        "df = pd.read_csv('https://raw.githubusercontent.com/Syomara/Data-Science-1/main/Entrega2/homicidios_dolosos_consumados(1).csv', encoding='latin-1')\n",
        "df.head()"
      ],
      "metadata": {
        "colab": {
          "base_uri": "https://localhost:8080/",
          "height": 568
        },
        "id": "PZsFvev-PEb_",
        "outputId": "f8bdb1c3-5bc1-4ff5-c757-69c361f519bf"
      },
      "execution_count": 48,
      "outputs": [
        {
          "output_type": "execute_result",
          "data": {
            "text/plain": [
              "   ID_VICTIMA       FECHA   AÑO    MES          TRIMESTRE DIA_SEMANA HORA  \\\n",
              "0  AAA1134816  30.04.2021  2021  ABRIL  SEGUNDO TRIMESTRE    VIERNES    8   \n",
              "1  AAA1146478  30.04.2021  2021  ABRIL  SEGUNDO TRIMESTRE    VIERNES   13   \n",
              "2   AAA128234  28.04.2021  2021  ABRIL  SEGUNDO TRIMESTRE  MIERCOLES   22   \n",
              "3   AAA199424  28.04.2021  2021  ABRIL  SEGUNDO TRIMESTRE  MIERCOLES   20   \n",
              "4  AAB1152814  16.04.2021  2021  ABRIL  SEGUNDO TRIMESTRE    VIERNES   18   \n",
              "\n",
              "  DEPARTAMENTO  JURISDICCION                                  LUGAR  ...  \\\n",
              "0    CANELONES  SECCIONAL 28  VIA PUBLICA U OTROS ESPACIOS ABIERTOS  ...   \n",
              "1   MONTEVIDEO  SECCIONAL 24  VIA PUBLICA U OTROS ESPACIOS ABIERTOS  ...   \n",
              "2   MONTEVIDEO  SECCIONAL 14  VIA PUBLICA U OTROS ESPACIOS ABIERTOS  ...   \n",
              "3   TACUAREMBO   SECCIONAL 2                             RESIDENCIA  ...   \n",
              "4   MONTEVIDEO  SECCIONAL 15  VIA PUBLICA U OTROS ESPACIOS ABIERTOS  ...   \n",
              "\n",
              "            ARMAREC             PROCESADOS          MENORESCINICIOPROC  \\\n",
              "0     ARMA DE FUEGO         SIN PROCESADOS  SIN MENORES C/INICIO PROC.   \n",
              "1     ARMA DE FUEGO         SIN PROCESADOS  SIN MENORES C/INICIO PROC.   \n",
              "2     ARMA DE FUEGO         SIN PROCESADOS  SIN MENORES C/INICIO PROC.   \n",
              "3  CORTO / PUNZANTE  AUTOR MAYOR FALLECIDO  SIN MENORES C/INICIO PROC.   \n",
              "4     ARMA DE FUEGO         SIN PROCESADOS  SIN MENORES C/INICIO PROC.   \n",
              "\n",
              "      ACLARADO    SEXO EDADCALC NACIONALIDAD  \\\n",
              "0  SIN ACLARAR  HOMBRE       39     URUGUAYA   \n",
              "1  SIN ACLARAR  HOMBRE       33     URUGUAYA   \n",
              "2  SIN ACLARAR  HOMBRE       31     URUGUAYA   \n",
              "3     ACLARADO   MUJER       60     URUGUAYA   \n",
              "4  SIN ACLARAR  HOMBRE       28     URUGUAYA   \n",
              "\n",
              "                              ANTECEDENTES ANTECEDENTESPORESTUPEFACIENTES  \\\n",
              "0    ANTECEDENTES POR DELITOS NO VIOLENTOS               SIN ANTECEDENTES   \n",
              "1  ANTECEDENTES POR AMBOS TIPOS DE DELITOS               SIN ANTECEDENTES   \n",
              "2       ANTECEDENTES POR DELITOS VIOLENTOS               SIN ANTECEDENTES   \n",
              "3                         SIN ANTECEDENTES               SIN ANTECEDENTES   \n",
              "4       ANTECEDENTES POR DELITOS VIOLENTOS               SIN ANTECEDENTES   \n",
              "\n",
              "        REL_VICT_AGRES  \n",
              "0  VINCULO DESCONOCIDO  \n",
              "1  VINCULO DESCONOCIDO  \n",
              "2  VINCULO DESCONOCIDO  \n",
              "3     PAREJA/EX PAREJA  \n",
              "4  VINCULO DESCONOCIDO  \n",
              "\n",
              "[5 rows x 22 columns]"
            ],
            "text/html": [
              "\n",
              "  <div id=\"df-0ed34303-1a6e-4f43-93b3-7fb8e43cd95c\" class=\"colab-df-container\">\n",
              "    <div>\n",
              "<style scoped>\n",
              "    .dataframe tbody tr th:only-of-type {\n",
              "        vertical-align: middle;\n",
              "    }\n",
              "\n",
              "    .dataframe tbody tr th {\n",
              "        vertical-align: top;\n",
              "    }\n",
              "\n",
              "    .dataframe thead th {\n",
              "        text-align: right;\n",
              "    }\n",
              "</style>\n",
              "<table border=\"1\" class=\"dataframe\">\n",
              "  <thead>\n",
              "    <tr style=\"text-align: right;\">\n",
              "      <th></th>\n",
              "      <th>ID_VICTIMA</th>\n",
              "      <th>FECHA</th>\n",
              "      <th>AÑO</th>\n",
              "      <th>MES</th>\n",
              "      <th>TRIMESTRE</th>\n",
              "      <th>DIA_SEMANA</th>\n",
              "      <th>HORA</th>\n",
              "      <th>DEPARTAMENTO</th>\n",
              "      <th>JURISDICCION</th>\n",
              "      <th>LUGAR</th>\n",
              "      <th>...</th>\n",
              "      <th>ARMAREC</th>\n",
              "      <th>PROCESADOS</th>\n",
              "      <th>MENORESCINICIOPROC</th>\n",
              "      <th>ACLARADO</th>\n",
              "      <th>SEXO</th>\n",
              "      <th>EDADCALC</th>\n",
              "      <th>NACIONALIDAD</th>\n",
              "      <th>ANTECEDENTES</th>\n",
              "      <th>ANTECEDENTESPORESTUPEFACIENTES</th>\n",
              "      <th>REL_VICT_AGRES</th>\n",
              "    </tr>\n",
              "  </thead>\n",
              "  <tbody>\n",
              "    <tr>\n",
              "      <th>0</th>\n",
              "      <td>AAA1134816</td>\n",
              "      <td>30.04.2021</td>\n",
              "      <td>2021</td>\n",
              "      <td>ABRIL</td>\n",
              "      <td>SEGUNDO TRIMESTRE</td>\n",
              "      <td>VIERNES</td>\n",
              "      <td>8</td>\n",
              "      <td>CANELONES</td>\n",
              "      <td>SECCIONAL 28</td>\n",
              "      <td>VIA PUBLICA U OTROS ESPACIOS ABIERTOS</td>\n",
              "      <td>...</td>\n",
              "      <td>ARMA DE FUEGO</td>\n",
              "      <td>SIN PROCESADOS</td>\n",
              "      <td>SIN MENORES C/INICIO PROC.</td>\n",
              "      <td>SIN ACLARAR</td>\n",
              "      <td>HOMBRE</td>\n",
              "      <td>39</td>\n",
              "      <td>URUGUAYA</td>\n",
              "      <td>ANTECEDENTES POR DELITOS NO VIOLENTOS</td>\n",
              "      <td>SIN ANTECEDENTES</td>\n",
              "      <td>VINCULO DESCONOCIDO</td>\n",
              "    </tr>\n",
              "    <tr>\n",
              "      <th>1</th>\n",
              "      <td>AAA1146478</td>\n",
              "      <td>30.04.2021</td>\n",
              "      <td>2021</td>\n",
              "      <td>ABRIL</td>\n",
              "      <td>SEGUNDO TRIMESTRE</td>\n",
              "      <td>VIERNES</td>\n",
              "      <td>13</td>\n",
              "      <td>MONTEVIDEO</td>\n",
              "      <td>SECCIONAL 24</td>\n",
              "      <td>VIA PUBLICA U OTROS ESPACIOS ABIERTOS</td>\n",
              "      <td>...</td>\n",
              "      <td>ARMA DE FUEGO</td>\n",
              "      <td>SIN PROCESADOS</td>\n",
              "      <td>SIN MENORES C/INICIO PROC.</td>\n",
              "      <td>SIN ACLARAR</td>\n",
              "      <td>HOMBRE</td>\n",
              "      <td>33</td>\n",
              "      <td>URUGUAYA</td>\n",
              "      <td>ANTECEDENTES POR AMBOS TIPOS DE DELITOS</td>\n",
              "      <td>SIN ANTECEDENTES</td>\n",
              "      <td>VINCULO DESCONOCIDO</td>\n",
              "    </tr>\n",
              "    <tr>\n",
              "      <th>2</th>\n",
              "      <td>AAA128234</td>\n",
              "      <td>28.04.2021</td>\n",
              "      <td>2021</td>\n",
              "      <td>ABRIL</td>\n",
              "      <td>SEGUNDO TRIMESTRE</td>\n",
              "      <td>MIERCOLES</td>\n",
              "      <td>22</td>\n",
              "      <td>MONTEVIDEO</td>\n",
              "      <td>SECCIONAL 14</td>\n",
              "      <td>VIA PUBLICA U OTROS ESPACIOS ABIERTOS</td>\n",
              "      <td>...</td>\n",
              "      <td>ARMA DE FUEGO</td>\n",
              "      <td>SIN PROCESADOS</td>\n",
              "      <td>SIN MENORES C/INICIO PROC.</td>\n",
              "      <td>SIN ACLARAR</td>\n",
              "      <td>HOMBRE</td>\n",
              "      <td>31</td>\n",
              "      <td>URUGUAYA</td>\n",
              "      <td>ANTECEDENTES POR DELITOS VIOLENTOS</td>\n",
              "      <td>SIN ANTECEDENTES</td>\n",
              "      <td>VINCULO DESCONOCIDO</td>\n",
              "    </tr>\n",
              "    <tr>\n",
              "      <th>3</th>\n",
              "      <td>AAA199424</td>\n",
              "      <td>28.04.2021</td>\n",
              "      <td>2021</td>\n",
              "      <td>ABRIL</td>\n",
              "      <td>SEGUNDO TRIMESTRE</td>\n",
              "      <td>MIERCOLES</td>\n",
              "      <td>20</td>\n",
              "      <td>TACUAREMBO</td>\n",
              "      <td>SECCIONAL 2</td>\n",
              "      <td>RESIDENCIA</td>\n",
              "      <td>...</td>\n",
              "      <td>CORTO / PUNZANTE</td>\n",
              "      <td>AUTOR MAYOR FALLECIDO</td>\n",
              "      <td>SIN MENORES C/INICIO PROC.</td>\n",
              "      <td>ACLARADO</td>\n",
              "      <td>MUJER</td>\n",
              "      <td>60</td>\n",
              "      <td>URUGUAYA</td>\n",
              "      <td>SIN ANTECEDENTES</td>\n",
              "      <td>SIN ANTECEDENTES</td>\n",
              "      <td>PAREJA/EX PAREJA</td>\n",
              "    </tr>\n",
              "    <tr>\n",
              "      <th>4</th>\n",
              "      <td>AAB1152814</td>\n",
              "      <td>16.04.2021</td>\n",
              "      <td>2021</td>\n",
              "      <td>ABRIL</td>\n",
              "      <td>SEGUNDO TRIMESTRE</td>\n",
              "      <td>VIERNES</td>\n",
              "      <td>18</td>\n",
              "      <td>MONTEVIDEO</td>\n",
              "      <td>SECCIONAL 15</td>\n",
              "      <td>VIA PUBLICA U OTROS ESPACIOS ABIERTOS</td>\n",
              "      <td>...</td>\n",
              "      <td>ARMA DE FUEGO</td>\n",
              "      <td>SIN PROCESADOS</td>\n",
              "      <td>SIN MENORES C/INICIO PROC.</td>\n",
              "      <td>SIN ACLARAR</td>\n",
              "      <td>HOMBRE</td>\n",
              "      <td>28</td>\n",
              "      <td>URUGUAYA</td>\n",
              "      <td>ANTECEDENTES POR DELITOS VIOLENTOS</td>\n",
              "      <td>SIN ANTECEDENTES</td>\n",
              "      <td>VINCULO DESCONOCIDO</td>\n",
              "    </tr>\n",
              "  </tbody>\n",
              "</table>\n",
              "<p>5 rows × 22 columns</p>\n",
              "</div>\n",
              "    <div class=\"colab-df-buttons\">\n",
              "\n",
              "  <div class=\"colab-df-container\">\n",
              "    <button class=\"colab-df-convert\" onclick=\"convertToInteractive('df-0ed34303-1a6e-4f43-93b3-7fb8e43cd95c')\"\n",
              "            title=\"Convert this dataframe to an interactive table.\"\n",
              "            style=\"display:none;\">\n",
              "\n",
              "  <svg xmlns=\"http://www.w3.org/2000/svg\" height=\"24px\" viewBox=\"0 -960 960 960\">\n",
              "    <path d=\"M120-120v-720h720v720H120Zm60-500h600v-160H180v160Zm220 220h160v-160H400v160Zm0 220h160v-160H400v160ZM180-400h160v-160H180v160Zm440 0h160v-160H620v160ZM180-180h160v-160H180v160Zm440 0h160v-160H620v160Z\"/>\n",
              "  </svg>\n",
              "    </button>\n",
              "\n",
              "  <style>\n",
              "    .colab-df-container {\n",
              "      display:flex;\n",
              "      gap: 12px;\n",
              "    }\n",
              "\n",
              "    .colab-df-convert {\n",
              "      background-color: #E8F0FE;\n",
              "      border: none;\n",
              "      border-radius: 50%;\n",
              "      cursor: pointer;\n",
              "      display: none;\n",
              "      fill: #1967D2;\n",
              "      height: 32px;\n",
              "      padding: 0 0 0 0;\n",
              "      width: 32px;\n",
              "    }\n",
              "\n",
              "    .colab-df-convert:hover {\n",
              "      background-color: #E2EBFA;\n",
              "      box-shadow: 0px 1px 2px rgba(60, 64, 67, 0.3), 0px 1px 3px 1px rgba(60, 64, 67, 0.15);\n",
              "      fill: #174EA6;\n",
              "    }\n",
              "\n",
              "    .colab-df-buttons div {\n",
              "      margin-bottom: 4px;\n",
              "    }\n",
              "\n",
              "    [theme=dark] .colab-df-convert {\n",
              "      background-color: #3B4455;\n",
              "      fill: #D2E3FC;\n",
              "    }\n",
              "\n",
              "    [theme=dark] .colab-df-convert:hover {\n",
              "      background-color: #434B5C;\n",
              "      box-shadow: 0px 1px 3px 1px rgba(0, 0, 0, 0.15);\n",
              "      filter: drop-shadow(0px 1px 2px rgba(0, 0, 0, 0.3));\n",
              "      fill: #FFFFFF;\n",
              "    }\n",
              "  </style>\n",
              "\n",
              "    <script>\n",
              "      const buttonEl =\n",
              "        document.querySelector('#df-0ed34303-1a6e-4f43-93b3-7fb8e43cd95c button.colab-df-convert');\n",
              "      buttonEl.style.display =\n",
              "        google.colab.kernel.accessAllowed ? 'block' : 'none';\n",
              "\n",
              "      async function convertToInteractive(key) {\n",
              "        const element = document.querySelector('#df-0ed34303-1a6e-4f43-93b3-7fb8e43cd95c');\n",
              "        const dataTable =\n",
              "          await google.colab.kernel.invokeFunction('convertToInteractive',\n",
              "                                                    [key], {});\n",
              "        if (!dataTable) return;\n",
              "\n",
              "        const docLinkHtml = 'Like what you see? Visit the ' +\n",
              "          '<a target=\"_blank\" href=https://colab.research.google.com/notebooks/data_table.ipynb>data table notebook</a>'\n",
              "          + ' to learn more about interactive tables.';\n",
              "        element.innerHTML = '';\n",
              "        dataTable['output_type'] = 'display_data';\n",
              "        await google.colab.output.renderOutput(dataTable, element);\n",
              "        const docLink = document.createElement('div');\n",
              "        docLink.innerHTML = docLinkHtml;\n",
              "        element.appendChild(docLink);\n",
              "      }\n",
              "    </script>\n",
              "  </div>\n",
              "\n",
              "\n",
              "    <div id=\"df-3750b870-9fb3-48e7-b6f6-e18372a61afb\">\n",
              "      <button class=\"colab-df-quickchart\" onclick=\"quickchart('df-3750b870-9fb3-48e7-b6f6-e18372a61afb')\"\n",
              "                title=\"Suggest charts\"\n",
              "                style=\"display:none;\">\n",
              "\n",
              "<svg xmlns=\"http://www.w3.org/2000/svg\" height=\"24px\"viewBox=\"0 0 24 24\"\n",
              "     width=\"24px\">\n",
              "    <g>\n",
              "        <path d=\"M19 3H5c-1.1 0-2 .9-2 2v14c0 1.1.9 2 2 2h14c1.1 0 2-.9 2-2V5c0-1.1-.9-2-2-2zM9 17H7v-7h2v7zm4 0h-2V7h2v10zm4 0h-2v-4h2v4z\"/>\n",
              "    </g>\n",
              "</svg>\n",
              "      </button>\n",
              "\n",
              "<style>\n",
              "  .colab-df-quickchart {\n",
              "      --bg-color: #E8F0FE;\n",
              "      --fill-color: #1967D2;\n",
              "      --hover-bg-color: #E2EBFA;\n",
              "      --hover-fill-color: #174EA6;\n",
              "      --disabled-fill-color: #AAA;\n",
              "      --disabled-bg-color: #DDD;\n",
              "  }\n",
              "\n",
              "  [theme=dark] .colab-df-quickchart {\n",
              "      --bg-color: #3B4455;\n",
              "      --fill-color: #D2E3FC;\n",
              "      --hover-bg-color: #434B5C;\n",
              "      --hover-fill-color: #FFFFFF;\n",
              "      --disabled-bg-color: #3B4455;\n",
              "      --disabled-fill-color: #666;\n",
              "  }\n",
              "\n",
              "  .colab-df-quickchart {\n",
              "    background-color: var(--bg-color);\n",
              "    border: none;\n",
              "    border-radius: 50%;\n",
              "    cursor: pointer;\n",
              "    display: none;\n",
              "    fill: var(--fill-color);\n",
              "    height: 32px;\n",
              "    padding: 0;\n",
              "    width: 32px;\n",
              "  }\n",
              "\n",
              "  .colab-df-quickchart:hover {\n",
              "    background-color: var(--hover-bg-color);\n",
              "    box-shadow: 0 1px 2px rgba(60, 64, 67, 0.3), 0 1px 3px 1px rgba(60, 64, 67, 0.15);\n",
              "    fill: var(--button-hover-fill-color);\n",
              "  }\n",
              "\n",
              "  .colab-df-quickchart-complete:disabled,\n",
              "  .colab-df-quickchart-complete:disabled:hover {\n",
              "    background-color: var(--disabled-bg-color);\n",
              "    fill: var(--disabled-fill-color);\n",
              "    box-shadow: none;\n",
              "  }\n",
              "\n",
              "  .colab-df-spinner {\n",
              "    border: 2px solid var(--fill-color);\n",
              "    border-color: transparent;\n",
              "    border-bottom-color: var(--fill-color);\n",
              "    animation:\n",
              "      spin 1s steps(1) infinite;\n",
              "  }\n",
              "\n",
              "  @keyframes spin {\n",
              "    0% {\n",
              "      border-color: transparent;\n",
              "      border-bottom-color: var(--fill-color);\n",
              "      border-left-color: var(--fill-color);\n",
              "    }\n",
              "    20% {\n",
              "      border-color: transparent;\n",
              "      border-left-color: var(--fill-color);\n",
              "      border-top-color: var(--fill-color);\n",
              "    }\n",
              "    30% {\n",
              "      border-color: transparent;\n",
              "      border-left-color: var(--fill-color);\n",
              "      border-top-color: var(--fill-color);\n",
              "      border-right-color: var(--fill-color);\n",
              "    }\n",
              "    40% {\n",
              "      border-color: transparent;\n",
              "      border-right-color: var(--fill-color);\n",
              "      border-top-color: var(--fill-color);\n",
              "    }\n",
              "    60% {\n",
              "      border-color: transparent;\n",
              "      border-right-color: var(--fill-color);\n",
              "    }\n",
              "    80% {\n",
              "      border-color: transparent;\n",
              "      border-right-color: var(--fill-color);\n",
              "      border-bottom-color: var(--fill-color);\n",
              "    }\n",
              "    90% {\n",
              "      border-color: transparent;\n",
              "      border-bottom-color: var(--fill-color);\n",
              "    }\n",
              "  }\n",
              "</style>\n",
              "\n",
              "      <script>\n",
              "        async function quickchart(key) {\n",
              "          const quickchartButtonEl =\n",
              "            document.querySelector('#' + key + ' button');\n",
              "          quickchartButtonEl.disabled = true;  // To prevent multiple clicks.\n",
              "          quickchartButtonEl.classList.add('colab-df-spinner');\n",
              "          try {\n",
              "            const charts = await google.colab.kernel.invokeFunction(\n",
              "                'suggestCharts', [key], {});\n",
              "          } catch (error) {\n",
              "            console.error('Error during call to suggestCharts:', error);\n",
              "          }\n",
              "          quickchartButtonEl.classList.remove('colab-df-spinner');\n",
              "          quickchartButtonEl.classList.add('colab-df-quickchart-complete');\n",
              "        }\n",
              "        (() => {\n",
              "          let quickchartButtonEl =\n",
              "            document.querySelector('#df-3750b870-9fb3-48e7-b6f6-e18372a61afb button');\n",
              "          quickchartButtonEl.style.display =\n",
              "            google.colab.kernel.accessAllowed ? 'block' : 'none';\n",
              "        })();\n",
              "      </script>\n",
              "    </div>\n",
              "\n",
              "    </div>\n",
              "  </div>\n"
            ],
            "application/vnd.google.colaboratory.intrinsic+json": {
              "type": "dataframe",
              "variable_name": "df"
            }
          },
          "metadata": {},
          "execution_count": 48
        }
      ]
    },
    {
      "cell_type": "markdown",
      "source": [
        "# Items faltantes"
      ],
      "metadata": {
        "id": "jQsfCEF6R9CV"
      }
    },
    {
      "cell_type": "code",
      "source": [
        "missing = df.isna().sum().sort_values(ascending=False)\n",
        "missing[missing > 0]"
      ],
      "metadata": {
        "colab": {
          "base_uri": "https://localhost:8080/",
          "height": 84
        },
        "id": "revwpJCdSBXb",
        "outputId": "bb2c8cf4-a3ed-4633-fdbf-fd32017cdd30"
      },
      "execution_count": 49,
      "outputs": [
        {
          "output_type": "execute_result",
          "data": {
            "text/plain": [
              "Series([], dtype: int64)"
            ],
            "text/html": [
              "<div>\n",
              "<style scoped>\n",
              "    .dataframe tbody tr th:only-of-type {\n",
              "        vertical-align: middle;\n",
              "    }\n",
              "\n",
              "    .dataframe tbody tr th {\n",
              "        vertical-align: top;\n",
              "    }\n",
              "\n",
              "    .dataframe thead th {\n",
              "        text-align: right;\n",
              "    }\n",
              "</style>\n",
              "<table border=\"1\" class=\"dataframe\">\n",
              "  <thead>\n",
              "    <tr style=\"text-align: right;\">\n",
              "      <th></th>\n",
              "      <th>0</th>\n",
              "    </tr>\n",
              "  </thead>\n",
              "  <tbody>\n",
              "  </tbody>\n",
              "</table>\n",
              "</div><br><label><b>dtype:</b> int64</label>"
            ]
          },
          "metadata": {},
          "execution_count": 49
        }
      ]
    },
    {
      "cell_type": "markdown",
      "source": [
        "En este caso la Base de datos está completa por lo que no es necesario eliminar ningún linea.\n",
        "# Análisis Univariado\n",
        "**Cantidad de Delitos por Departamento**\n"
      ],
      "metadata": {
        "id": "97bmgZegSPHj"
      }
    },
    {
      "cell_type": "code",
      "source": [
        "sns.countplot(x='DEPARTAMENTO', data=df)\n",
        "plt.title('Cantidad de delitos por Departamento')\n",
        "plt.xticks(fontsize=6,rotation=45)\n",
        "plt.show()"
      ],
      "metadata": {
        "colab": {
          "base_uri": "https://localhost:8080/",
          "height": 536
        },
        "id": "5q5lCYMfSn4b",
        "outputId": "1b1a97df-f88c-47f2-9b19-a98f1eb96e08"
      },
      "execution_count": 50,
      "outputs": [
        {
          "output_type": "display_data",
          "data": {
            "text/plain": [
              "<Figure size 640x480 with 1 Axes>"
            ],
            "image/png": "[encoded data removed]"
          },
          "metadata": {}
        }
      ]
    },
    {
      "cell_type": "markdown",
      "source": [
        "En este gráfico se puede observar fácilmente que el Departamento donde más ocurren los delitos son Montevideo y Canelones; considerando que son los Departamentos que más gente tiene, no es raro que se dé de esta manera."
      ],
      "metadata": {
        "id": "wz2yFsOPUFHE"
      }
    },
    {
      "cell_type": "markdown",
      "source": [
        "**Distribución de Cantidad de delitos por Año**"
      ],
      "metadata": {
        "id": "ckDx3EgZUZsY"
      }
    },
    {
      "cell_type": "code",
      "source": [
        "sns.histplot(df['AÑO'], bins=30, kde=True)\n",
        "plt.title('Distribución de Cantidad de delitos por año')\n",
        "plt.xlabel('Año')\n",
        "years = sorted(df['AÑO'].unique())\n",
        "plt.xticks(years,fontsize=6)\n",
        "plt.show()"
      ],
      "metadata": {
        "colab": {
          "base_uri": "https://localhost:8080/",
          "height": 467
        },
        "id": "twxxPvcTUZDT",
        "outputId": "89f385d6-9a20-4588-e4dd-7afde22b7e55"
      },
      "execution_count": 54,
      "outputs": [
        {
          "output_type": "display_data",
          "data": {
            "text/plain": [
              "<Figure size 640x480 with 1 Axes>"
            ],
            "image/png": "[encoded data removed]"
          },
          "metadata": {}
        }
      ]
    },
    {
      "cell_type": "markdown",
      "source": [
        "No existe una mejora ni un aumento de la cantidad de delitos de manera significativa en los últimos años, si se observa un salto muy grande desde 2017 al 2018 que en los años siguientes no disminuye de manera significativa. En 2025 aún hay \"pocos\" delitos pero asumiendo que faltan 8 meses aún en la base de datos no podemos sacar ninguna conclusión."
      ],
      "metadata": {
        "id": "QSNlDYh7Wn9G"
      }
    },
    {
      "cell_type": "markdown",
      "source": [
        "# 🔀 Análisis Bivariado\n",
        "**Delitos divididos por Año y genero de la victima**"
      ],
      "metadata": {
        "id": "RVNQqWX-XQwZ"
      }
    },
    {
      "cell_type": "code",
      "source": [
        "sns.countplot(data=df, x='AÑO', hue='SEXO')\n",
        "plt.xticks(rotation=45)\n",
        "plt.title('Delitos cometidos por año según el genero de la victima')\n",
        "plt.show()"
      ],
      "metadata": {
        "colab": {
          "base_uri": "https://localhost:8080/",
          "height": 493
        },
        "id": "xZKa8iVmgK_y",
        "outputId": "9df9cdb6-47cf-4bd0-ef36-93fab26312e4"
      },
      "execution_count": 56,
      "outputs": [
        {
          "output_type": "display_data",
          "data": {
            "text/plain": [
              "<Figure size 640x480 with 1 Axes>"
            ],
            "image/png": "[encoded data removed]"
          },
          "metadata": {}
        }
      ]
    },
    {
      "cell_type": "markdown",
      "source": [
        "Existen más delitos en los cuales las victimas son hombres; además, son muy pocos los casos donde no se pudo determinar el sexo de la persona.\n",
        "\n",
        "**Distribución de delitos por horario cometido con Victimas Hombres**"
      ],
      "metadata": {
        "id": "HBs3Xmv9h1Fk"
      }
    },
    {
      "cell_type": "code",
      "source": [
        "df_distribucion = df[df['SEXO'] == 'HOMBRE'].copy()\n",
        "df_distribucion['HORA'] = pd.to_numeric(df_distribucion['HORA'], errors='coerce')\n",
        "df_distribucion = df_distribucion.dropna(subset=['HORA'])\n",
        "df_distribucion['HORA'] = df_distribucion['HORA'].astype(int)\n",
        "\n",
        "sns.histplot(data=df_distribucion, x='HORA', bins=24)\n",
        "plt.title('Horario cometido con Victimas Hombres')\n",
        "plt.xlabel('Hora')\n",
        "plt.show()"
      ],
      "metadata": {
        "colab": {
          "base_uri": "https://localhost:8080/",
          "height": 472
        },
        "id": "-Cnb6Ulhigac",
        "outputId": "e204afe6-415e-429c-e941-2576313c72c4"
      },
      "execution_count": 57,
      "outputs": [
        {
          "output_type": "display_data",
          "data": {
            "text/plain": [
              "<Figure size 640x480 with 1 Axes>"
            ],
            "image/png": "[encoded data removed]"
          },
          "metadata": {}
        }
      ]
    },
    {
      "cell_type": "markdown",
      "source": [
        "Existe una mayor cantidad de delitos contra hombres en los horarios nocturnos, principalmente entre las 21 y las 0hs.\n",
        "\n",
        "**Distribución de delitos por horario cometido con Victimas Mujeres**\n"
      ],
      "metadata": {
        "id": "rahC4urYl94d"
      }
    },
    {
      "cell_type": "code",
      "source": [
        "df_distribucion = df[df['SEXO'] == 'MUJER'].copy()\n",
        "df_distribucion['HORA'] = pd.to_numeric(df_distribucion['HORA'], errors='coerce')\n",
        "df_distribucion = df_distribucion.dropna(subset=['HORA'])\n",
        "df_distribucion['HORA'] = df_distribucion['HORA'].astype(int)\n",
        "\n",
        "sns.histplot(data=df_distribucion, x='HORA', bins=24)\n",
        "plt.title('Horario cometido con Victimas Mujeres')\n",
        "plt.xlabel('Hora')\n",
        "plt.show()"
      ],
      "metadata": {
        "colab": {
          "base_uri": "https://localhost:8080/",
          "height": 472
        },
        "id": "vf5HiMzhmPX4",
        "outputId": "8d8c6761-f5bb-4217-ab7a-5c03525ef824"
      },
      "execution_count": 58,
      "outputs": [
        {
          "output_type": "display_data",
          "data": {
            "text/plain": [
              "<Figure size 640x480 with 1 Axes>"
            ],
            "image/png": "[encoded data removed]"
          },
          "metadata": {}
        }
      ]
    },
    {
      "cell_type": "markdown",
      "source": [
        "En las mujeres si la ejecución de los delitos fue más variada en el rango horario, va en aumento hacia la noche pero también existen muchos en otros horarios.\n",
        "# 🔁 4. Análisis Multivariado\n",
        "**Género de Víctima vs Arma de fuego utilizada**"
      ],
      "metadata": {
        "id": "sT0uAfXBmYhV"
      }
    },
    {
      "cell_type": "code",
      "source": [
        "top_countries = df['ARMAREC'].value_counts().head(5).index\n",
        "df_top = df[df['ARMAREC'].isin(top_countries)]\n",
        "\n",
        "plt.figure(figsize=(12, 6))\n",
        "sns.countplot(data=df_top, x='ARMAREC', hue='SEXO')\n",
        "plt.xticks(fontsize=8,rotation=45)\n",
        "plt.title('Género de Víctima vs Arma de fuego utilizada')\n",
        "plt.show()\n",
        "\n"
      ],
      "metadata": {
        "colab": {
          "base_uri": "https://localhost:8080/",
          "height": 811
        },
        "id": "sHyFCsQNm4kG",
        "outputId": "c0c43bee-be0b-450a-ed5c-51cf35cbd9ce"
      },
      "execution_count": 59,
      "outputs": [
        {
          "output_type": "display_data",
          "data": {
            "text/plain": [
              "<Figure size 1200x600 with 1 Axes>"
            ],
            "image/png": "[encoded data removed]"
          },
          "metadata": {}
        }
      ]
    },
    {
      "cell_type": "markdown",
      "source": [
        "El arma más utilizada es la de Fuego para ambos sexos.\n",
        "\n",
        "\n",
        "# ✅ Conclusiones preliminares\n",
        "\n",
        "*   Los Departamentos donde más ocurren los delitos son Montevideo y Canelones, siendo Montevideo la capital del país.\n",
        "*   Desde el 2013 a la fecha no ha disminuido la cantidad de delitos, en 2017 creció significativamente pero no ha disminuido hasta la fecha de una manera relevante.\n",
        "*   Los hombres son la mayor cantidad de victimas, siendo estos asesinados principalmente entre las 21 y las 0hs. Las mujeres en cambio no tienen una franja de horario fija, los delitos se distribuyen más al correr del día.\n",
        "*   El arma de fuego es la herramienta más utilizada en estos delitos.\n"
      ],
      "metadata": {
        "id": "AwzguBCVopz0"
      }
    },
    {
      "cell_type": "markdown",
      "source": [
        "## 5. Modelado\n",
        "El objetivo de este modelado es usar variables como Sexo de la victima, la relación entre victima y victimario, los antecedentes de la victima para saber si existe una relación con la resolución del caso."
      ],
      "metadata": {
        "id": "ZK2Z4840aFC6"
      }
    },
    {
      "cell_type": "markdown",
      "source": [
        "**Carga de datos**"
      ],
      "metadata": {
        "id": "V5XKTpqst0Od"
      }
    },
    {
      "cell_type": "code",
      "source": [
        "import pandas as pd\n",
        "import seaborn as sns\n",
        "import matplotlib.pyplot as plt\n",
        "\n",
        "df = pd.read_csv('https://raw.githubusercontent.com/Syomara/Data-Science-1/main/Entrega2/homicidios_dolosos_consumados(1).csv', encoding='latin-1')\n",
        "df.head()"
      ],
      "metadata": {
        "colab": {
          "base_uri": "https://localhost:8080/",
          "height": 568
        },
        "id": "Ij7cjOx_rFrh",
        "outputId": "dc2d78b3-fb40-4c6c-d6d9-64262831b19f"
      },
      "execution_count": 135,
      "outputs": [
        {
          "output_type": "execute_result",
          "data": {
            "text/plain": [
              "   ID_VICTIMA       FECHA   AÑO    MES          TRIMESTRE DIA_SEMANA HORA  \\\n",
              "0  AAA1134816  30.04.2021  2021  ABRIL  SEGUNDO TRIMESTRE    VIERNES    8   \n",
              "1  AAA1146478  30.04.2021  2021  ABRIL  SEGUNDO TRIMESTRE    VIERNES   13   \n",
              "2   AAA128234  28.04.2021  2021  ABRIL  SEGUNDO TRIMESTRE  MIERCOLES   22   \n",
              "3   AAA199424  28.04.2021  2021  ABRIL  SEGUNDO TRIMESTRE  MIERCOLES   20   \n",
              "4  AAB1152814  16.04.2021  2021  ABRIL  SEGUNDO TRIMESTRE    VIERNES   18   \n",
              "\n",
              "  DEPARTAMENTO  JURISDICCION                                  LUGAR  ...  \\\n",
              "0    CANELONES  SECCIONAL 28  VIA PUBLICA U OTROS ESPACIOS ABIERTOS  ...   \n",
              "1   MONTEVIDEO  SECCIONAL 24  VIA PUBLICA U OTROS ESPACIOS ABIERTOS  ...   \n",
              "2   MONTEVIDEO  SECCIONAL 14  VIA PUBLICA U OTROS ESPACIOS ABIERTOS  ...   \n",
              "3   TACUAREMBO   SECCIONAL 2                             RESIDENCIA  ...   \n",
              "4   MONTEVIDEO  SECCIONAL 15  VIA PUBLICA U OTROS ESPACIOS ABIERTOS  ...   \n",
              "\n",
              "            ARMAREC             PROCESADOS          MENORESCINICIOPROC  \\\n",
              "0     ARMA DE FUEGO         SIN PROCESADOS  SIN MENORES C/INICIO PROC.   \n",
              "1     ARMA DE FUEGO         SIN PROCESADOS  SIN MENORES C/INICIO PROC.   \n",
              "2     ARMA DE FUEGO         SIN PROCESADOS  SIN MENORES C/INICIO PROC.   \n",
              "3  CORTO / PUNZANTE  AUTOR MAYOR FALLECIDO  SIN MENORES C/INICIO PROC.   \n",
              "4     ARMA DE FUEGO         SIN PROCESADOS  SIN MENORES C/INICIO PROC.   \n",
              "\n",
              "      ACLARADO    SEXO EDADCALC NACIONALIDAD  \\\n",
              "0  SIN ACLARAR  HOMBRE       39     URUGUAYA   \n",
              "1  SIN ACLARAR  HOMBRE       33     URUGUAYA   \n",
              "2  SIN ACLARAR  HOMBRE       31     URUGUAYA   \n",
              "3     ACLARADO   MUJER       60     URUGUAYA   \n",
              "4  SIN ACLARAR  HOMBRE       28     URUGUAYA   \n",
              "\n",
              "                              ANTECEDENTES ANTECEDENTESPORESTUPEFACIENTES  \\\n",
              "0    ANTECEDENTES POR DELITOS NO VIOLENTOS               SIN ANTECEDENTES   \n",
              "1  ANTECEDENTES POR AMBOS TIPOS DE DELITOS               SIN ANTECEDENTES   \n",
              "2       ANTECEDENTES POR DELITOS VIOLENTOS               SIN ANTECEDENTES   \n",
              "3                         SIN ANTECEDENTES               SIN ANTECEDENTES   \n",
              "4       ANTECEDENTES POR DELITOS VIOLENTOS               SIN ANTECEDENTES   \n",
              "\n",
              "        REL_VICT_AGRES  \n",
              "0  VINCULO DESCONOCIDO  \n",
              "1  VINCULO DESCONOCIDO  \n",
              "2  VINCULO DESCONOCIDO  \n",
              "3     PAREJA/EX PAREJA  \n",
              "4  VINCULO DESCONOCIDO  \n",
              "\n",
              "[5 rows x 22 columns]"
            ],
            "text/html": [
              "\n",
              "  <div id=\"df-0519ec48-b9ce-4f89-8379-ccec590d3d8e\" class=\"colab-df-container\">\n",
              "    <div>\n",
              "<style scoped>\n",
              "    .dataframe tbody tr th:only-of-type {\n",
              "        vertical-align: middle;\n",
              "    }\n",
              "\n",
              "    .dataframe tbody tr th {\n",
              "        vertical-align: top;\n",
              "    }\n",
              "\n",
              "    .dataframe thead th {\n",
              "        text-align: right;\n",
              "    }\n",
              "</style>\n",
              "<table border=\"1\" class=\"dataframe\">\n",
              "  <thead>\n",
              "    <tr style=\"text-align: right;\">\n",
              "      <th></th>\n",
              "      <th>ID_VICTIMA</th>\n",
              "      <th>FECHA</th>\n",
              "      <th>AÑO</th>\n",
              "      <th>MES</th>\n",
              "      <th>TRIMESTRE</th>\n",
              "      <th>DIA_SEMANA</th>\n",
              "      <th>HORA</th>\n",
              "      <th>DEPARTAMENTO</th>\n",
              "      <th>JURISDICCION</th>\n",
              "      <th>LUGAR</th>\n",
              "      <th>...</th>\n",
              "      <th>ARMAREC</th>\n",
              "      <th>PROCESADOS</th>\n",
              "      <th>MENORESCINICIOPROC</th>\n",
              "      <th>ACLARADO</th>\n",
              "      <th>SEXO</th>\n",
              "      <th>EDADCALC</th>\n",
              "      <th>NACIONALIDAD</th>\n",
              "      <th>ANTECEDENTES</th>\n",
              "      <th>ANTECEDENTESPORESTUPEFACIENTES</th>\n",
              "      <th>REL_VICT_AGRES</th>\n",
              "    </tr>\n",
              "  </thead>\n",
              "  <tbody>\n",
              "    <tr>\n",
              "      <th>0</th>\n",
              "      <td>AAA1134816</td>\n",
              "      <td>30.04.2021</td>\n",
              "      <td>2021</td>\n",
              "      <td>ABRIL</td>\n",
              "      <td>SEGUNDO TRIMESTRE</td>\n",
              "      <td>VIERNES</td>\n",
              "      <td>8</td>\n",
              "      <td>CANELONES</td>\n",
              "      <td>SECCIONAL 28</td>\n",
              "      <td>VIA PUBLICA U OTROS ESPACIOS ABIERTOS</td>\n",
              "      <td>...</td>\n",
              "      <td>ARMA DE FUEGO</td>\n",
              "      <td>SIN PROCESADOS</td>\n",
              "      <td>SIN MENORES C/INICIO PROC.</td>\n",
              "      <td>SIN ACLARAR</td>\n",
              "      <td>HOMBRE</td>\n",
              "      <td>39</td>\n",
              "      <td>URUGUAYA</td>\n",
              "      <td>ANTECEDENTES POR DELITOS NO VIOLENTOS</td>\n",
              "      <td>SIN ANTECEDENTES</td>\n",
              "      <td>VINCULO DESCONOCIDO</td>\n",
              "    </tr>\n",
              "    <tr>\n",
              "      <th>1</th>\n",
              "      <td>AAA1146478</td>\n",
              "      <td>30.04.2021</td>\n",
              "      <td>2021</td>\n",
              "      <td>ABRIL</td>\n",
              "      <td>SEGUNDO TRIMESTRE</td>\n",
              "      <td>VIERNES</td>\n",
              "      <td>13</td>\n",
              "      <td>MONTEVIDEO</td>\n",
              "      <td>SECCIONAL 24</td>\n",
              "      <td>VIA PUBLICA U OTROS ESPACIOS ABIERTOS</td>\n",
              "      <td>...</td>\n",
              "      <td>ARMA DE FUEGO</td>\n",
              "      <td>SIN PROCESADOS</td>\n",
              "      <td>SIN MENORES C/INICIO PROC.</td>\n",
              "      <td>SIN ACLARAR</td>\n",
              "      <td>HOMBRE</td>\n",
              "      <td>33</td>\n",
              "      <td>URUGUAYA</td>\n",
              "      <td>ANTECEDENTES POR AMBOS TIPOS DE DELITOS</td>\n",
              "      <td>SIN ANTECEDENTES</td>\n",
              "      <td>VINCULO DESCONOCIDO</td>\n",
              "    </tr>\n",
              "    <tr>\n",
              "      <th>2</th>\n",
              "      <td>AAA128234</td>\n",
              "      <td>28.04.2021</td>\n",
              "      <td>2021</td>\n",
              "      <td>ABRIL</td>\n",
              "      <td>SEGUNDO TRIMESTRE</td>\n",
              "      <td>MIERCOLES</td>\n",
              "      <td>22</td>\n",
              "      <td>MONTEVIDEO</td>\n",
              "      <td>SECCIONAL 14</td>\n",
              "      <td>VIA PUBLICA U OTROS ESPACIOS ABIERTOS</td>\n",
              "      <td>...</td>\n",
              "      <td>ARMA DE FUEGO</td>\n",
              "      <td>SIN PROCESADOS</td>\n",
              "      <td>SIN MENORES C/INICIO PROC.</td>\n",
              "      <td>SIN ACLARAR</td>\n",
              "      <td>HOMBRE</td>\n",
              "      <td>31</td>\n",
              "      <td>URUGUAYA</td>\n",
              "      <td>ANTECEDENTES POR DELITOS VIOLENTOS</td>\n",
              "      <td>SIN ANTECEDENTES</td>\n",
              "      <td>VINCULO DESCONOCIDO</td>\n",
              "    </tr>\n",
              "    <tr>\n",
              "      <th>3</th>\n",
              "      <td>AAA199424</td>\n",
              "      <td>28.04.2021</td>\n",
              "      <td>2021</td>\n",
              "      <td>ABRIL</td>\n",
              "      <td>SEGUNDO TRIMESTRE</td>\n",
              "      <td>MIERCOLES</td>\n",
              "      <td>20</td>\n",
              "      <td>TACUAREMBO</td>\n",
              "      <td>SECCIONAL 2</td>\n",
              "      <td>RESIDENCIA</td>\n",
              "      <td>...</td>\n",
              "      <td>CORTO / PUNZANTE</td>\n",
              "      <td>AUTOR MAYOR FALLECIDO</td>\n",
              "      <td>SIN MENORES C/INICIO PROC.</td>\n",
              "      <td>ACLARADO</td>\n",
              "      <td>MUJER</td>\n",
              "      <td>60</td>\n",
              "      <td>URUGUAYA</td>\n",
              "      <td>SIN ANTECEDENTES</td>\n",
              "      <td>SIN ANTECEDENTES</td>\n",
              "      <td>PAREJA/EX PAREJA</td>\n",
              "    </tr>\n",
              "    <tr>\n",
              "      <th>4</th>\n",
              "      <td>AAB1152814</td>\n",
              "      <td>16.04.2021</td>\n",
              "      <td>2021</td>\n",
              "      <td>ABRIL</td>\n",
              "      <td>SEGUNDO TRIMESTRE</td>\n",
              "      <td>VIERNES</td>\n",
              "      <td>18</td>\n",
              "      <td>MONTEVIDEO</td>\n",
              "      <td>SECCIONAL 15</td>\n",
              "      <td>VIA PUBLICA U OTROS ESPACIOS ABIERTOS</td>\n",
              "      <td>...</td>\n",
              "      <td>ARMA DE FUEGO</td>\n",
              "      <td>SIN PROCESADOS</td>\n",
              "      <td>SIN MENORES C/INICIO PROC.</td>\n",
              "      <td>SIN ACLARAR</td>\n",
              "      <td>HOMBRE</td>\n",
              "      <td>28</td>\n",
              "      <td>URUGUAYA</td>\n",
              "      <td>ANTECEDENTES POR DELITOS VIOLENTOS</td>\n",
              "      <td>SIN ANTECEDENTES</td>\n",
              "      <td>VINCULO DESCONOCIDO</td>\n",
              "    </tr>\n",
              "  </tbody>\n",
              "</table>\n",
              "<p>5 rows × 22 columns</p>\n",
              "</div>\n",
              "    <div class=\"colab-df-buttons\">\n",
              "\n",
              "  <div class=\"colab-df-container\">\n",
              "    <button class=\"colab-df-convert\" onclick=\"convertToInteractive('df-0519ec48-b9ce-4f89-8379-ccec590d3d8e')\"\n",
              "            title=\"Convert this dataframe to an interactive table.\"\n",
              "            style=\"display:none;\">\n",
              "\n",
              "  <svg xmlns=\"http://www.w3.org/2000/svg\" height=\"24px\" viewBox=\"0 -960 960 960\">\n",
              "    <path d=\"M120-120v-720h720v720H120Zm60-500h600v-160H180v160Zm220 220h160v-160H400v160Zm0 220h160v-160H400v160ZM180-400h160v-160H180v160Zm440 0h160v-160H620v160ZM180-180h160v-160H180v160Zm440 0h160v-160H620v160Z\"/>\n",
              "  </svg>\n",
              "    </button>\n",
              "\n",
              "  <style>\n",
              "    .colab-df-container {\n",
              "      display:flex;\n",
              "      gap: 12px;\n",
              "    }\n",
              "\n",
              "    .colab-df-convert {\n",
              "      background-color: #E8F0FE;\n",
              "      border: none;\n",
              "      border-radius: 50%;\n",
              "      cursor: pointer;\n",
              "      display: none;\n",
              "      fill: #1967D2;\n",
              "      height: 32px;\n",
              "      padding: 0 0 0 0;\n",
              "      width: 32px;\n",
              "    }\n",
              "\n",
              "    .colab-df-convert:hover {\n",
              "      background-color: #E2EBFA;\n",
              "      box-shadow: 0px 1px 2px rgba(60, 64, 67, 0.3), 0px 1px 3px 1px rgba(60, 64, 67, 0.15);\n",
              "      fill: #174EA6;\n",
              "    }\n",
              "\n",
              "    .colab-df-buttons div {\n",
              "      margin-bottom: 4px;\n",
              "    }\n",
              "\n",
              "    [theme=dark] .colab-df-convert {\n",
              "      background-color: #3B4455;\n",
              "      fill: #D2E3FC;\n",
              "    }\n",
              "\n",
              "    [theme=dark] .colab-df-convert:hover {\n",
              "      background-color: #434B5C;\n",
              "      box-shadow: 0px 1px 3px 1px rgba(0, 0, 0, 0.15);\n",
              "      filter: drop-shadow(0px 1px 2px rgba(0, 0, 0, 0.3));\n",
              "      fill: #FFFFFF;\n",
              "    }\n",
              "  </style>\n",
              "\n",
              "    <script>\n",
              "      const buttonEl =\n",
              "        document.querySelector('#df-0519ec48-b9ce-4f89-8379-ccec590d3d8e button.colab-df-convert');\n",
              "      buttonEl.style.display =\n",
              "        google.colab.kernel.accessAllowed ? 'block' : 'none';\n",
              "\n",
              "      async function convertToInteractive(key) {\n",
              "        const element = document.querySelector('#df-0519ec48-b9ce-4f89-8379-ccec590d3d8e');\n",
              "        const dataTable =\n",
              "          await google.colab.kernel.invokeFunction('convertToInteractive',\n",
              "                                                    [key], {});\n",
              "        if (!dataTable) return;\n",
              "\n",
              "        const docLinkHtml = 'Like what you see? Visit the ' +\n",
              "          '<a target=\"_blank\" href=https://colab.research.google.com/notebooks/data_table.ipynb>data table notebook</a>'\n",
              "          + ' to learn more about interactive tables.';\n",
              "        element.innerHTML = '';\n",
              "        dataTable['output_type'] = 'display_data';\n",
              "        await google.colab.output.renderOutput(dataTable, element);\n",
              "        const docLink = document.createElement('div');\n",
              "        docLink.innerHTML = docLinkHtml;\n",
              "        element.appendChild(docLink);\n",
              "      }\n",
              "    </script>\n",
              "  </div>\n",
              "\n",
              "\n",
              "    <div id=\"df-ccb1502c-1ed9-4b99-9130-2b6b2cd9dc17\">\n",
              "      <button class=\"colab-df-quickchart\" onclick=\"quickchart('df-ccb1502c-1ed9-4b99-9130-2b6b2cd9dc17')\"\n",
              "                title=\"Suggest charts\"\n",
              "                style=\"display:none;\">\n",
              "\n",
              "<svg xmlns=\"http://www.w3.org/2000/svg\" height=\"24px\"viewBox=\"0 0 24 24\"\n",
              "     width=\"24px\">\n",
              "    <g>\n",
              "        <path d=\"M19 3H5c-1.1 0-2 .9-2 2v14c0 1.1.9 2 2 2h14c1.1 0 2-.9 2-2V5c0-1.1-.9-2-2-2zM9 17H7v-7h2v7zm4 0h-2V7h2v10zm4 0h-2v-4h2v4z\"/>\n",
              "    </g>\n",
              "</svg>\n",
              "      </button>\n",
              "\n",
              "<style>\n",
              "  .colab-df-quickchart {\n",
              "      --bg-color: #E8F0FE;\n",
              "      --fill-color: #1967D2;\n",
              "      --hover-bg-color: #E2EBFA;\n",
              "      --hover-fill-color: #174EA6;\n",
              "      --disabled-fill-color: #AAA;\n",
              "      --disabled-bg-color: #DDD;\n",
              "  }\n",
              "\n",
              "  [theme=dark] .colab-df-quickchart {\n",
              "      --bg-color: #3B4455;\n",
              "      --fill-color: #D2E3FC;\n",
              "      --hover-bg-color: #434B5C;\n",
              "      --hover-fill-color: #FFFFFF;\n",
              "      --disabled-bg-color: #3B4455;\n",
              "      --disabled-fill-color: #666;\n",
              "  }\n",
              "\n",
              "  .colab-df-quickchart {\n",
              "    background-color: var(--bg-color);\n",
              "    border: none;\n",
              "    border-radius: 50%;\n",
              "    cursor: pointer;\n",
              "    display: none;\n",
              "    fill: var(--fill-color);\n",
              "    height: 32px;\n",
              "    padding: 0;\n",
              "    width: 32px;\n",
              "  }\n",
              "\n",
              "  .colab-df-quickchart:hover {\n",
              "    background-color: var(--hover-bg-color);\n",
              "    box-shadow: 0 1px 2px rgba(60, 64, 67, 0.3), 0 1px 3px 1px rgba(60, 64, 67, 0.15);\n",
              "    fill: var(--button-hover-fill-color);\n",
              "  }\n",
              "\n",
              "  .colab-df-quickchart-complete:disabled,\n",
              "  .colab-df-quickchart-complete:disabled:hover {\n",
              "    background-color: var(--disabled-bg-color);\n",
              "    fill: var(--disabled-fill-color);\n",
              "    box-shadow: none;\n",
              "  }\n",
              "\n",
              "  .colab-df-spinner {\n",
              "    border: 2px solid var(--fill-color);\n",
              "    border-color: transparent;\n",
              "    border-bottom-color: var(--fill-color);\n",
              "    animation:\n",
              "      spin 1s steps(1) infinite;\n",
              "  }\n",
              "\n",
              "  @keyframes spin {\n",
              "    0% {\n",
              "      border-color: transparent;\n",
              "      border-bottom-color: var(--fill-color);\n",
              "      border-left-color: var(--fill-color);\n",
              "    }\n",
              "    20% {\n",
              "      border-color: transparent;\n",
              "      border-left-color: var(--fill-color);\n",
              "      border-top-color: var(--fill-color);\n",
              "    }\n",
              "    30% {\n",
              "      border-color: transparent;\n",
              "      border-left-color: var(--fill-color);\n",
              "      border-top-color: var(--fill-color);\n",
              "      border-right-color: var(--fill-color);\n",
              "    }\n",
              "    40% {\n",
              "      border-color: transparent;\n",
              "      border-right-color: var(--fill-color);\n",
              "      border-top-color: var(--fill-color);\n",
              "    }\n",
              "    60% {\n",
              "      border-color: transparent;\n",
              "      border-right-color: var(--fill-color);\n",
              "    }\n",
              "    80% {\n",
              "      border-color: transparent;\n",
              "      border-right-color: var(--fill-color);\n",
              "      border-bottom-color: var(--fill-color);\n",
              "    }\n",
              "    90% {\n",
              "      border-color: transparent;\n",
              "      border-bottom-color: var(--fill-color);\n",
              "    }\n",
              "  }\n",
              "</style>\n",
              "\n",
              "      <script>\n",
              "        async function quickchart(key) {\n",
              "          const quickchartButtonEl =\n",
              "            document.querySelector('#' + key + ' button');\n",
              "          quickchartButtonEl.disabled = true;  // To prevent multiple clicks.\n",
              "          quickchartButtonEl.classList.add('colab-df-spinner');\n",
              "          try {\n",
              "            const charts = await google.colab.kernel.invokeFunction(\n",
              "                'suggestCharts', [key], {});\n",
              "          } catch (error) {\n",
              "            console.error('Error during call to suggestCharts:', error);\n",
              "          }\n",
              "          quickchartButtonEl.classList.remove('colab-df-spinner');\n",
              "          quickchartButtonEl.classList.add('colab-df-quickchart-complete');\n",
              "        }\n",
              "        (() => {\n",
              "          let quickchartButtonEl =\n",
              "            document.querySelector('#df-ccb1502c-1ed9-4b99-9130-2b6b2cd9dc17 button');\n",
              "          quickchartButtonEl.style.display =\n",
              "            google.colab.kernel.accessAllowed ? 'block' : 'none';\n",
              "        })();\n",
              "      </script>\n",
              "    </div>\n",
              "\n",
              "    </div>\n",
              "  </div>\n"
            ],
            "application/vnd.google.colaboratory.intrinsic+json": {
              "type": "dataframe",
              "variable_name": "df"
            }
          },
          "metadata": {},
          "execution_count": 135
        }
      ]
    },
    {
      "cell_type": "markdown",
      "source": [
        "**Preparación de datos**"
      ],
      "metadata": {
        "id": "JP2ra14dt_pd"
      }
    },
    {
      "cell_type": "code",
      "source": [
        "df['SEXO'] = df['SEXO'].str.upper().str.strip()\n",
        "df['REL_VICT_AGRES'] = df['REL_VICT_AGRES'].str.upper().str.strip()\n",
        "df['ANTECEDENTES'] = df['ANTECEDENTES'].str.upper().str.strip()\n",
        "df['ACLARADO'] = df['ACLARADO'].str.upper().str.strip()\n",
        "\n",
        "df['ACLARADO_BIN'] = df['ACLARADO'].map({'ACLARADO':1, 'SIN ACLARAR':0})\n",
        "\n",
        "df.dropna(subset=['ACLARADO_BIN'], inplace=True)\n",
        "\n",
        "categorical_cols_for_dummies = ['SEXO', 'REL_VICT_AGRES','ANTECEDENTES']\n",
        "df_model_features = df[categorical_cols_for_dummies]\n",
        "df_modelo = pd.get_dummies(df_model_features, drop_first=True)\n",
        "\n",
        "df_modelo['ACLARADO_BIN'] = df['ACLARADO_BIN']"
      ],
      "metadata": {
        "id": "Mw-Hfc6xsmS6"
      },
      "execution_count": 128,
      "outputs": []
    },
    {
      "cell_type": "markdown",
      "source": [
        "**Dividisión de datos para entrenamiento y test:**"
      ],
      "metadata": {
        "id": "GfUxtwlAvPU7"
      }
    },
    {
      "cell_type": "code",
      "source": [
        "from sklearn.model_selection import train_test_split\n",
        "\n",
        "X = df_modelo.drop('ACLARADO_BIN', axis=1)\n",
        "y = df_modelo['ACLARADO_BIN']\n",
        "\n",
        "X_train, X_test, y_train, y_test = train_test_split(X, y, test_size=0.3, random_state=42)\n"
      ],
      "metadata": {
        "id": "58yuLXjhtIH9"
      },
      "execution_count": 129,
      "outputs": []
    },
    {
      "cell_type": "markdown",
      "source": [
        "**Entrenamiento del modelo y resultados de evaluación**"
      ],
      "metadata": {
        "id": "QDMv-c41vVOW"
      }
    },
    {
      "cell_type": "code",
      "source": [
        "from sklearn.ensemble import RandomForestClassifier\n",
        "from sklearn.metrics import classification_report, confusion_matrix\n",
        "\n",
        "clf = RandomForestClassifier(random_state=42)\n",
        "clf.fit(X_train, y_train)\n",
        "\n",
        "y_pred = clf.predict(X_test)\n",
        "\n",
        "print(confusion_matrix(y_test, y_pred))\n",
        "print(classification_report(y_test, y_pred))\n"
      ],
      "metadata": {
        "colab": {
          "base_uri": "https://localhost:8080/"
        },
        "id": "xXcaJrh8tMBY",
        "outputId": "bfaf7549-dcfe-4211-b01d-39510e4d50f3"
      },
      "execution_count": 130,
      "outputs": [
        {
          "output_type": "stream",
          "name": "stdout",
          "text": [
            "[[402  94]\n",
            " [115 614]]\n",
            "              precision    recall  f1-score   support\n",
            "\n",
            "           0       0.78      0.81      0.79       496\n",
            "           1       0.87      0.84      0.85       729\n",
            "\n",
            "    accuracy                           0.83      1225\n",
            "   macro avg       0.82      0.83      0.82      1225\n",
            "weighted avg       0.83      0.83      0.83      1225\n",
            "\n"
          ]
        }
      ]
    },
    {
      "cell_type": "markdown",
      "source": [
        "## 6. Conclusiones finales:\n",
        "*   De acuerdo a los valores de accurancy el modelo acertó correctamente en el 83% de los casos, generando una buena adherencia del mismo.\n",
        "*   Se debería mejorar el modelo para el resto del 17% de los casos."
      ],
      "metadata": {
        "id": "fw2mWwqTvpd0"
      }
    }
  ]
}